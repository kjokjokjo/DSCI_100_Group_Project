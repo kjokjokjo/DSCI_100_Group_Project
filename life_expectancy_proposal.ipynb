{
 "cells": [
  {
   "cell_type": "markdown",
   "metadata": {},
   "source": [
    "# Predicting life expectancy using a regression model\n",
    "\n",
    "\n",
    "### Introduction\n",
    "\n",
    "The human lifespan has changed drastically over the past century, increasing from an average 47.3 years of age in 1900, to 78.8 by 2010 (Crimmins, 2015). Yet this impressive increase in the average life expectancy at birth does not reflect the inequalities in life expectancy which are seen across the socioeconomic divide. \n",
    "\n",
    "The World Health Organisation (WHO) released a dataset containing life expectancy and a large variety of health factors, such as immunization, economic, and social factors, for 193 countries between 2000-2015. We will use vaccination against HIV/AIDS mortality rate per 1000 live births, as well as BMI, and years of education to predict life expectancy using a linear regression model.\n"
   ]
  },
  {
   "cell_type": "markdown",
   "metadata": {},
   "source": [
    "### Why these Predictors?\n",
    "+ **HIV/AIDS** has been proven to shorten life expectancy by increasing the risk of other illnesses like heart disease or diabetes. This is caused by the virus weakening the immune system, making one more susceptible to illnesses and making those illnesses more likely to end in death.\n",
    "\n",
    "+ **BMI** can be considered a proxy for health and can have a direct impact on life expectancy. As person gets further from a healthy BMI range, their life expectancy decreases.\n",
    "\n",
    "+ **Schooling**, contrary to BMI, can increase life expectancy. It has been shown in multiple studies that people with higher levels of education tend to have longer life expectancies.\n"
   ]
  },
  {
   "cell_type": "markdown",
   "metadata": {},
   "source": [
    "### Data Analysis\n",
    "#### Training Data Information\n",
    "\n"
   ]
  },
  {
   "cell_type": "code",
   "execution_count": 1,
   "metadata": {},
   "outputs": [
    {
     "name": "stderr",
     "output_type": "stream",
     "text": [
      "── \u001b[1mAttaching packages\u001b[22m ─────────────────────────────────────── tidyverse 1.3.0 ──\n",
      "\n",
      "\u001b[32m✔\u001b[39m \u001b[34mggplot2\u001b[39m 3.3.2     \u001b[32m✔\u001b[39m \u001b[34mpurrr  \u001b[39m 0.3.4\n",
      "\u001b[32m✔\u001b[39m \u001b[34mtibble \u001b[39m 3.0.3     \u001b[32m✔\u001b[39m \u001b[34mdplyr  \u001b[39m 1.0.2\n",
      "\u001b[32m✔\u001b[39m \u001b[34mtidyr  \u001b[39m 1.1.2     \u001b[32m✔\u001b[39m \u001b[34mstringr\u001b[39m 1.4.0\n",
      "\u001b[32m✔\u001b[39m \u001b[34mreadr  \u001b[39m 1.3.1     \u001b[32m✔\u001b[39m \u001b[34mforcats\u001b[39m 0.5.0\n",
      "\n",
      "Warning message:\n",
      "“package ‘ggplot2’ was built under R version 4.0.1”\n",
      "Warning message:\n",
      "“package ‘tibble’ was built under R version 4.0.2”\n",
      "Warning message:\n",
      "“package ‘tidyr’ was built under R version 4.0.2”\n",
      "Warning message:\n",
      "“package ‘dplyr’ was built under R version 4.0.2”\n",
      "── \u001b[1mConflicts\u001b[22m ────────────────────────────────────────── tidyverse_conflicts() ──\n",
      "\u001b[31m✖\u001b[39m \u001b[34mdplyr\u001b[39m::\u001b[32mfilter()\u001b[39m masks \u001b[34mstats\u001b[39m::filter()\n",
      "\u001b[31m✖\u001b[39m \u001b[34mdplyr\u001b[39m::\u001b[32mlag()\u001b[39m    masks \u001b[34mstats\u001b[39m::lag()\n",
      "\n",
      "Warning message:\n",
      "“package ‘tidymodels’ was built under R version 4.0.2”\n",
      "── \u001b[1mAttaching packages\u001b[22m ────────────────────────────────────── tidymodels 0.1.1 ──\n",
      "\n",
      "\u001b[32m✔\u001b[39m \u001b[34mbroom    \u001b[39m 0.7.0      \u001b[32m✔\u001b[39m \u001b[34mrecipes  \u001b[39m 0.1.13\n",
      "\u001b[32m✔\u001b[39m \u001b[34mdials    \u001b[39m 0.0.9      \u001b[32m✔\u001b[39m \u001b[34mrsample  \u001b[39m 0.0.7 \n",
      "\u001b[32m✔\u001b[39m \u001b[34minfer    \u001b[39m 0.5.4      \u001b[32m✔\u001b[39m \u001b[34mtune     \u001b[39m 0.1.1 \n",
      "\u001b[32m✔\u001b[39m \u001b[34mmodeldata\u001b[39m 0.0.2      \u001b[32m✔\u001b[39m \u001b[34mworkflows\u001b[39m 0.2.0 \n",
      "\u001b[32m✔\u001b[39m \u001b[34mparsnip  \u001b[39m 0.1.3      \u001b[32m✔\u001b[39m \u001b[34myardstick\u001b[39m 0.0.7 \n",
      "\n",
      "Warning message:\n",
      "“package ‘broom’ was built under R version 4.0.2”\n",
      "Warning message:\n",
      "“package ‘dials’ was built under R version 4.0.2”\n",
      "Warning message:\n",
      "“package ‘infer’ was built under R version 4.0.3”\n",
      "Warning message:\n",
      "“package ‘modeldata’ was built under R version 4.0.1”\n",
      "Warning message:\n",
      "“package ‘parsnip’ was built under R version 4.0.2”\n",
      "Warning message:\n",
      "“package ‘recipes’ was built under R version 4.0.1”\n",
      "Warning message:\n",
      "“package ‘tune’ was built under R version 4.0.2”\n",
      "Warning message:\n",
      "“package ‘workflows’ was built under R version 4.0.2”\n",
      "Warning message:\n",
      "“package ‘yardstick’ was built under R version 4.0.2”\n",
      "── \u001b[1mConflicts\u001b[22m ───────────────────────────────────────── tidymodels_conflicts() ──\n",
      "\u001b[31m✖\u001b[39m \u001b[34mscales\u001b[39m::\u001b[32mdiscard()\u001b[39m masks \u001b[34mpurrr\u001b[39m::discard()\n",
      "\u001b[31m✖\u001b[39m \u001b[34mdplyr\u001b[39m::\u001b[32mfilter()\u001b[39m   masks \u001b[34mstats\u001b[39m::filter()\n",
      "\u001b[31m✖\u001b[39m \u001b[34mrecipes\u001b[39m::\u001b[32mfixed()\u001b[39m  masks \u001b[34mstringr\u001b[39m::fixed()\n",
      "\u001b[31m✖\u001b[39m \u001b[34mdplyr\u001b[39m::\u001b[32mlag()\u001b[39m      masks \u001b[34mstats\u001b[39m::lag()\n",
      "\u001b[31m✖\u001b[39m \u001b[34myardstick\u001b[39m::\u001b[32mspec()\u001b[39m masks \u001b[34mreadr\u001b[39m::spec()\n",
      "\u001b[31m✖\u001b[39m \u001b[34mrecipes\u001b[39m::\u001b[32mstep()\u001b[39m   masks \u001b[34mstats\u001b[39m::step()\n",
      "\n"
     ]
    }
   ],
   "source": [
    "# Import library\n",
    "\n",
    "library(tidyverse)\n",
    "library(repr)\n",
    "library(tidymodels)\n",
    "options(repr.matrix.max.rows = 6)\n",
    "library(readxl)"
   ]
  },
  {
   "cell_type": "code",
   "execution_count": 2,
   "metadata": {},
   "outputs": [
    {
     "name": "stderr",
     "output_type": "stream",
     "text": [
      "Parsed with column specification:\n",
      "cols(\n",
      "  .default = col_double(),\n",
      "  Country = \u001b[31mcol_character()\u001b[39m,\n",
      "  Status = \u001b[31mcol_character()\u001b[39m\n",
      ")\n",
      "\n",
      "See spec(...) for full column specifications.\n",
      "\n"
     ]
    },
    {
     "data": {
      "text/html": [
       "<table>\n",
       "<caption>A tibble: 6 × 22</caption>\n",
       "<thead>\n",
       "\t<tr><th scope=col>Country</th><th scope=col>Year</th><th scope=col>Status</th><th scope=col>Life_expectancy</th><th scope=col>Adult_Mortality</th><th scope=col>infant_deaths</th><th scope=col>Alcohol</th><th scope=col>percentage_expenditure</th><th scope=col>Hepatitis_B</th><th scope=col>Measles</th><th scope=col>⋯</th><th scope=col>Polio</th><th scope=col>Total_expenditure</th><th scope=col>Diphtheria</th><th scope=col>HIV.AIDS</th><th scope=col>GDP</th><th scope=col>Population</th><th scope=col>thinness_1.19_years</th><th scope=col>thinness_5.9_years</th><th scope=col>Income_composition_of_resources</th><th scope=col>Schooling</th></tr>\n",
       "\t<tr><th scope=col>&lt;chr&gt;</th><th scope=col>&lt;dbl&gt;</th><th scope=col>&lt;chr&gt;</th><th scope=col>&lt;dbl&gt;</th><th scope=col>&lt;dbl&gt;</th><th scope=col>&lt;dbl&gt;</th><th scope=col>&lt;dbl&gt;</th><th scope=col>&lt;dbl&gt;</th><th scope=col>&lt;dbl&gt;</th><th scope=col>&lt;dbl&gt;</th><th scope=col>⋯</th><th scope=col>&lt;dbl&gt;</th><th scope=col>&lt;dbl&gt;</th><th scope=col>&lt;dbl&gt;</th><th scope=col>&lt;dbl&gt;</th><th scope=col>&lt;dbl&gt;</th><th scope=col>&lt;dbl&gt;</th><th scope=col>&lt;dbl&gt;</th><th scope=col>&lt;dbl&gt;</th><th scope=col>&lt;dbl&gt;</th><th scope=col>&lt;dbl&gt;</th></tr>\n",
       "</thead>\n",
       "<tbody>\n",
       "\t<tr><td>Afghanistan</td><td>2015</td><td>Developing</td><td>65.0</td><td>263</td><td>62</td><td>0.01</td><td>71.279624</td><td>65</td><td>1154</td><td>⋯</td><td> 6</td><td>8.16</td><td>65</td><td>0.1</td><td>584.25921</td><td>33736494</td><td>17.2</td><td>17.3</td><td>0.479</td><td>10.1</td></tr>\n",
       "\t<tr><td>Afghanistan</td><td>2014</td><td>Developing</td><td>59.9</td><td>271</td><td>64</td><td>0.01</td><td>73.523582</td><td>62</td><td> 492</td><td>⋯</td><td>58</td><td>8.18</td><td>62</td><td>0.1</td><td>612.69651</td><td>  327582</td><td>17.5</td><td>17.5</td><td>0.476</td><td>10.0</td></tr>\n",
       "\t<tr><td>Afghanistan</td><td>2013</td><td>Developing</td><td>59.9</td><td>268</td><td>66</td><td>0.01</td><td>73.219243</td><td>64</td><td> 430</td><td>⋯</td><td>62</td><td>8.13</td><td>64</td><td>0.1</td><td>631.74498</td><td>31731688</td><td>17.7</td><td>17.7</td><td>0.470</td><td> 9.9</td></tr>\n",
       "\t<tr><td>Afghanistan</td><td>2012</td><td>Developing</td><td>59.5</td><td>272</td><td>69</td><td>0.01</td><td>78.184215</td><td>67</td><td>2787</td><td>⋯</td><td>67</td><td>8.52</td><td>67</td><td>0.1</td><td>669.95900</td><td> 3696958</td><td>17.9</td><td>18.0</td><td>0.463</td><td> 9.8</td></tr>\n",
       "\t<tr><td>Afghanistan</td><td>2011</td><td>Developing</td><td>59.2</td><td>275</td><td>71</td><td>0.01</td><td> 7.097109</td><td>68</td><td>3013</td><td>⋯</td><td>68</td><td>7.87</td><td>68</td><td>0.1</td><td> 63.53723</td><td> 2978599</td><td>18.2</td><td>18.2</td><td>0.454</td><td> 9.5</td></tr>\n",
       "\t<tr><td>Afghanistan</td><td>2010</td><td>Developing</td><td>58.8</td><td>279</td><td>74</td><td>0.01</td><td>79.679367</td><td>66</td><td>1989</td><td>⋯</td><td>66</td><td>9.20</td><td>66</td><td>0.1</td><td>553.32894</td><td> 2883167</td><td>18.4</td><td>18.4</td><td>0.448</td><td> 9.2</td></tr>\n",
       "</tbody>\n",
       "</table>\n"
      ],
      "text/latex": [
       "A tibble: 6 × 22\n",
       "\\begin{tabular}{lllllllllllllllllllll}\n",
       " Country & Year & Status & Life\\_expectancy & Adult\\_Mortality & infant\\_deaths & Alcohol & percentage\\_expenditure & Hepatitis\\_B & Measles & ⋯ & Polio & Total\\_expenditure & Diphtheria & HIV.AIDS & GDP & Population & thinness\\_1.19\\_years & thinness\\_5.9\\_years & Income\\_composition\\_of\\_resources & Schooling\\\\\n",
       " <chr> & <dbl> & <chr> & <dbl> & <dbl> & <dbl> & <dbl> & <dbl> & <dbl> & <dbl> & ⋯ & <dbl> & <dbl> & <dbl> & <dbl> & <dbl> & <dbl> & <dbl> & <dbl> & <dbl> & <dbl>\\\\\n",
       "\\hline\n",
       "\t Afghanistan & 2015 & Developing & 65.0 & 263 & 62 & 0.01 & 71.279624 & 65 & 1154 & ⋯ &  6 & 8.16 & 65 & 0.1 & 584.25921 & 33736494 & 17.2 & 17.3 & 0.479 & 10.1\\\\\n",
       "\t Afghanistan & 2014 & Developing & 59.9 & 271 & 64 & 0.01 & 73.523582 & 62 &  492 & ⋯ & 58 & 8.18 & 62 & 0.1 & 612.69651 &   327582 & 17.5 & 17.5 & 0.476 & 10.0\\\\\n",
       "\t Afghanistan & 2013 & Developing & 59.9 & 268 & 66 & 0.01 & 73.219243 & 64 &  430 & ⋯ & 62 & 8.13 & 64 & 0.1 & 631.74498 & 31731688 & 17.7 & 17.7 & 0.470 &  9.9\\\\\n",
       "\t Afghanistan & 2012 & Developing & 59.5 & 272 & 69 & 0.01 & 78.184215 & 67 & 2787 & ⋯ & 67 & 8.52 & 67 & 0.1 & 669.95900 &  3696958 & 17.9 & 18.0 & 0.463 &  9.8\\\\\n",
       "\t Afghanistan & 2011 & Developing & 59.2 & 275 & 71 & 0.01 &  7.097109 & 68 & 3013 & ⋯ & 68 & 7.87 & 68 & 0.1 &  63.53723 &  2978599 & 18.2 & 18.2 & 0.454 &  9.5\\\\\n",
       "\t Afghanistan & 2010 & Developing & 58.8 & 279 & 74 & 0.01 & 79.679367 & 66 & 1989 & ⋯ & 66 & 9.20 & 66 & 0.1 & 553.32894 &  2883167 & 18.4 & 18.4 & 0.448 &  9.2\\\\\n",
       "\\end{tabular}\n"
      ],
      "text/markdown": [
       "\n",
       "A tibble: 6 × 22\n",
       "\n",
       "| Country &lt;chr&gt; | Year &lt;dbl&gt; | Status &lt;chr&gt; | Life_expectancy &lt;dbl&gt; | Adult_Mortality &lt;dbl&gt; | infant_deaths &lt;dbl&gt; | Alcohol &lt;dbl&gt; | percentage_expenditure &lt;dbl&gt; | Hepatitis_B &lt;dbl&gt; | Measles &lt;dbl&gt; | ⋯ ⋯ | Polio &lt;dbl&gt; | Total_expenditure &lt;dbl&gt; | Diphtheria &lt;dbl&gt; | HIV.AIDS &lt;dbl&gt; | GDP &lt;dbl&gt; | Population &lt;dbl&gt; | thinness_1.19_years &lt;dbl&gt; | thinness_5.9_years &lt;dbl&gt; | Income_composition_of_resources &lt;dbl&gt; | Schooling &lt;dbl&gt; |\n",
       "|---|---|---|---|---|---|---|---|---|---|---|---|---|---|---|---|---|---|---|---|---|\n",
       "| Afghanistan | 2015 | Developing | 65.0 | 263 | 62 | 0.01 | 71.279624 | 65 | 1154 | ⋯ |  6 | 8.16 | 65 | 0.1 | 584.25921 | 33736494 | 17.2 | 17.3 | 0.479 | 10.1 |\n",
       "| Afghanistan | 2014 | Developing | 59.9 | 271 | 64 | 0.01 | 73.523582 | 62 |  492 | ⋯ | 58 | 8.18 | 62 | 0.1 | 612.69651 |   327582 | 17.5 | 17.5 | 0.476 | 10.0 |\n",
       "| Afghanistan | 2013 | Developing | 59.9 | 268 | 66 | 0.01 | 73.219243 | 64 |  430 | ⋯ | 62 | 8.13 | 64 | 0.1 | 631.74498 | 31731688 | 17.7 | 17.7 | 0.470 |  9.9 |\n",
       "| Afghanistan | 2012 | Developing | 59.5 | 272 | 69 | 0.01 | 78.184215 | 67 | 2787 | ⋯ | 67 | 8.52 | 67 | 0.1 | 669.95900 |  3696958 | 17.9 | 18.0 | 0.463 |  9.8 |\n",
       "| Afghanistan | 2011 | Developing | 59.2 | 275 | 71 | 0.01 |  7.097109 | 68 | 3013 | ⋯ | 68 | 7.87 | 68 | 0.1 |  63.53723 |  2978599 | 18.2 | 18.2 | 0.454 |  9.5 |\n",
       "| Afghanistan | 2010 | Developing | 58.8 | 279 | 74 | 0.01 | 79.679367 | 66 | 1989 | ⋯ | 66 | 9.20 | 66 | 0.1 | 553.32894 |  2883167 | 18.4 | 18.4 | 0.448 |  9.2 |\n",
       "\n"
      ],
      "text/plain": [
       "  Country     Year Status     Life_expectancy Adult_Mortality infant_deaths\n",
       "1 Afghanistan 2015 Developing 65.0            263             62           \n",
       "2 Afghanistan 2014 Developing 59.9            271             64           \n",
       "3 Afghanistan 2013 Developing 59.9            268             66           \n",
       "4 Afghanistan 2012 Developing 59.5            272             69           \n",
       "5 Afghanistan 2011 Developing 59.2            275             71           \n",
       "6 Afghanistan 2010 Developing 58.8            279             74           \n",
       "  Alcohol percentage_expenditure Hepatitis_B Measles ⋯ Polio Total_expenditure\n",
       "1 0.01    71.279624              65          1154    ⋯  6    8.16             \n",
       "2 0.01    73.523582              62           492    ⋯ 58    8.18             \n",
       "3 0.01    73.219243              64           430    ⋯ 62    8.13             \n",
       "4 0.01    78.184215              67          2787    ⋯ 67    8.52             \n",
       "5 0.01     7.097109              68          3013    ⋯ 68    7.87             \n",
       "6 0.01    79.679367              66          1989    ⋯ 66    9.20             \n",
       "  Diphtheria HIV.AIDS GDP       Population thinness_1.19_years\n",
       "1 65         0.1      584.25921 33736494   17.2               \n",
       "2 62         0.1      612.69651   327582   17.5               \n",
       "3 64         0.1      631.74498 31731688   17.7               \n",
       "4 67         0.1      669.95900  3696958   17.9               \n",
       "5 68         0.1       63.53723  2978599   18.2               \n",
       "6 66         0.1      553.32894  2883167   18.4               \n",
       "  thinness_5.9_years Income_composition_of_resources Schooling\n",
       "1 17.3               0.479                           10.1     \n",
       "2 17.5               0.476                           10.0     \n",
       "3 17.7               0.470                            9.9     \n",
       "4 18.0               0.463                            9.8     \n",
       "5 18.2               0.454                            9.5     \n",
       "6 18.4               0.448                            9.2     "
      ]
     },
     "metadata": {},
     "output_type": "display_data"
    }
   ],
   "source": [
    "### Read dataset and change column names\n",
    "\n",
    "life_data <- read_csv(\"https://raw.githubusercontent.com/kjokjokjo/DSCI_100_Group_Project/main/Life_Expectancy_Data.csv\") \n",
    "\n",
    "colnames(life_data) <- make.names(colnames(life_data))\n",
    "\n",
    "head(life_data)"
   ]
  },
  {
   "cell_type": "code",
   "execution_count": 3,
   "metadata": {},
   "outputs": [
    {
     "data": {
      "text/html": [
       "<table>\n",
       "<caption>A tibble: 183 × 4</caption>\n",
       "<thead>\n",
       "\t<tr><th scope=col>Life_expectancy</th><th scope=col>HIV.AIDS</th><th scope=col>BMI</th><th scope=col>Schooling</th></tr>\n",
       "\t<tr><th scope=col>&lt;dbl&gt;</th><th scope=col>&lt;dbl&gt;</th><th scope=col>&lt;dbl&gt;</th><th scope=col>&lt;dbl&gt;</th></tr>\n",
       "</thead>\n",
       "<tbody>\n",
       "\t<tr><td>65.0</td><td>0.1</td><td>19.1</td><td>10.1</td></tr>\n",
       "\t<tr><td>77.8</td><td>0.1</td><td>58.0</td><td>14.2</td></tr>\n",
       "\t<tr><td>75.6</td><td>0.1</td><td>59.5</td><td>14.4</td></tr>\n",
       "\t<tr><td>⋮</td><td>⋮</td><td>⋮</td><td>⋮</td></tr>\n",
       "\t<tr><td>65.7</td><td>0.1</td><td>41.3</td><td> 9.0</td></tr>\n",
       "\t<tr><td>61.8</td><td>4.1</td><td>23.4</td><td>12.5</td></tr>\n",
       "\t<tr><td>67.0</td><td>6.2</td><td>31.8</td><td>10.3</td></tr>\n",
       "</tbody>\n",
       "</table>\n"
      ],
      "text/latex": [
       "A tibble: 183 × 4\n",
       "\\begin{tabular}{llll}\n",
       " Life\\_expectancy & HIV.AIDS & BMI & Schooling\\\\\n",
       " <dbl> & <dbl> & <dbl> & <dbl>\\\\\n",
       "\\hline\n",
       "\t 65.0 & 0.1 & 19.1 & 10.1\\\\\n",
       "\t 77.8 & 0.1 & 58.0 & 14.2\\\\\n",
       "\t 75.6 & 0.1 & 59.5 & 14.4\\\\\n",
       "\t ⋮ & ⋮ & ⋮ & ⋮\\\\\n",
       "\t 65.7 & 0.1 & 41.3 &  9.0\\\\\n",
       "\t 61.8 & 4.1 & 23.4 & 12.5\\\\\n",
       "\t 67.0 & 6.2 & 31.8 & 10.3\\\\\n",
       "\\end{tabular}\n"
      ],
      "text/markdown": [
       "\n",
       "A tibble: 183 × 4\n",
       "\n",
       "| Life_expectancy &lt;dbl&gt; | HIV.AIDS &lt;dbl&gt; | BMI &lt;dbl&gt; | Schooling &lt;dbl&gt; |\n",
       "|---|---|---|---|\n",
       "| 65.0 | 0.1 | 19.1 | 10.1 |\n",
       "| 77.8 | 0.1 | 58.0 | 14.2 |\n",
       "| 75.6 | 0.1 | 59.5 | 14.4 |\n",
       "| ⋮ | ⋮ | ⋮ | ⋮ |\n",
       "| 65.7 | 0.1 | 41.3 |  9.0 |\n",
       "| 61.8 | 4.1 | 23.4 | 12.5 |\n",
       "| 67.0 | 6.2 | 31.8 | 10.3 |\n",
       "\n"
      ],
      "text/plain": [
       "    Life_expectancy HIV.AIDS BMI  Schooling\n",
       "1   65.0            0.1      19.1 10.1     \n",
       "2   77.8            0.1      58.0 14.2     \n",
       "3   75.6            0.1      59.5 14.4     \n",
       "⋮   ⋮               ⋮        ⋮    ⋮        \n",
       "181 65.7            0.1      41.3  9.0     \n",
       "182 61.8            4.1      23.4 12.5     \n",
       "183 67.0            6.2      31.8 10.3     "
      ]
     },
     "metadata": {},
     "output_type": "display_data"
    }
   ],
   "source": [
    "### Filter the data in 2015 and Select predictors; Life Expectancy(Target), HIV/AIDS, BMI, Schooling(Predictors)\n",
    "\n",
    "life_expectancy_select <- life_data %>%\n",
    "                    filter(Year == 2015) %>% \n",
    "                    select(Life_expectancy, HIV.AIDS, BMI, Schooling)\n",
    "\n",
    "life_expectancy_select"
   ]
  },
  {
   "cell_type": "code",
   "execution_count": 4,
   "metadata": {},
   "outputs": [
    {
     "data": {
      "text/html": [
       "<style>\n",
       ".dl-inline {width: auto; margin:0; padding: 0}\n",
       ".dl-inline>dt, .dl-inline>dd {float: none; width: auto; display: inline-block}\n",
       ".dl-inline>dt::after {content: \":\\0020\"; padding-right: .5ex}\n",
       ".dl-inline>dt:not(:first-of-type) {padding-left: .5ex}\n",
       "</style><dl class=dl-inline><dt>Life_expectancy</dt><dd>0</dd><dt>HIV.AIDS</dt><dd>0</dd><dt>BMI</dt><dd>2</dd><dt>Schooling</dt><dd>10</dd></dl>\n"
      ],
      "text/latex": [
       "\\begin{description*}\n",
       "\\item[Life\\textbackslash{}\\_expectancy] 0\n",
       "\\item[HIV.AIDS] 0\n",
       "\\item[BMI] 2\n",
       "\\item[Schooling] 10\n",
       "\\end{description*}\n"
      ],
      "text/markdown": [
       "Life_expectancy\n",
       ":   0HIV.AIDS\n",
       ":   0BMI\n",
       ":   2Schooling\n",
       ":   10\n",
       "\n"
      ],
      "text/plain": [
       "Life_expectancy        HIV.AIDS             BMI       Schooling \n",
       "              0               0               2              10 "
      ]
     },
     "metadata": {},
     "output_type": "display_data"
    }
   ],
   "source": [
    "### The number of missing data points for each predictor\n",
    "\n",
    "colSums(is.na(life_expectancy_select))"
   ]
  },
  {
   "cell_type": "code",
   "execution_count": 5,
   "metadata": {},
   "outputs": [],
   "source": [
    "### Delete missing data\n",
    "\n",
    "life_expectancy_naomit <- na.omit(life_expectancy_select)"
   ]
  },
  {
   "cell_type": "code",
   "execution_count": 13,
   "metadata": {},
   "outputs": [
    {
     "data": {
      "text/html": [
       "<table>\n",
       "<caption>A tibble: 130 × 4</caption>\n",
       "<thead>\n",
       "\t<tr><th scope=col>Life_expectancy</th><th scope=col>HIV.AIDS</th><th scope=col>BMI</th><th scope=col>Schooling</th></tr>\n",
       "\t<tr><th scope=col>&lt;dbl&gt;</th><th scope=col>&lt;dbl&gt;</th><th scope=col>&lt;dbl&gt;</th><th scope=col>&lt;dbl&gt;</th></tr>\n",
       "</thead>\n",
       "<tbody>\n",
       "\t<tr><td>65.0</td><td>0.1</td><td>19.1</td><td>10.1</td></tr>\n",
       "\t<tr><td>77.8</td><td>0.1</td><td>58.0</td><td>14.2</td></tr>\n",
       "\t<tr><td>52.4</td><td>1.9</td><td>23.3</td><td>11.4</td></tr>\n",
       "\t<tr><td>⋮</td><td>⋮</td><td>⋮</td><td>⋮</td></tr>\n",
       "\t<tr><td>76.0</td><td>0.1</td><td>17.5</td><td>12.6</td></tr>\n",
       "\t<tr><td>65.7</td><td>0.1</td><td>41.3</td><td> 9.0</td></tr>\n",
       "\t<tr><td>61.8</td><td>4.1</td><td>23.4</td><td>12.5</td></tr>\n",
       "</tbody>\n",
       "</table>\n"
      ],
      "text/latex": [
       "A tibble: 130 × 4\n",
       "\\begin{tabular}{llll}\n",
       " Life\\_expectancy & HIV.AIDS & BMI & Schooling\\\\\n",
       " <dbl> & <dbl> & <dbl> & <dbl>\\\\\n",
       "\\hline\n",
       "\t 65.0 & 0.1 & 19.1 & 10.1\\\\\n",
       "\t 77.8 & 0.1 & 58.0 & 14.2\\\\\n",
       "\t 52.4 & 1.9 & 23.3 & 11.4\\\\\n",
       "\t ⋮ & ⋮ & ⋮ & ⋮\\\\\n",
       "\t 76.0 & 0.1 & 17.5 & 12.6\\\\\n",
       "\t 65.7 & 0.1 & 41.3 &  9.0\\\\\n",
       "\t 61.8 & 4.1 & 23.4 & 12.5\\\\\n",
       "\\end{tabular}\n"
      ],
      "text/markdown": [
       "\n",
       "A tibble: 130 × 4\n",
       "\n",
       "| Life_expectancy &lt;dbl&gt; | HIV.AIDS &lt;dbl&gt; | BMI &lt;dbl&gt; | Schooling &lt;dbl&gt; |\n",
       "|---|---|---|---|\n",
       "| 65.0 | 0.1 | 19.1 | 10.1 |\n",
       "| 77.8 | 0.1 | 58.0 | 14.2 |\n",
       "| 52.4 | 1.9 | 23.3 | 11.4 |\n",
       "| ⋮ | ⋮ | ⋮ | ⋮ |\n",
       "| 76.0 | 0.1 | 17.5 | 12.6 |\n",
       "| 65.7 | 0.1 | 41.3 |  9.0 |\n",
       "| 61.8 | 4.1 | 23.4 | 12.5 |\n",
       "\n"
      ],
      "text/plain": [
       "    Life_expectancy HIV.AIDS BMI  Schooling\n",
       "1   65.0            0.1      19.1 10.1     \n",
       "2   77.8            0.1      58.0 14.2     \n",
       "3   52.4            1.9      23.3 11.4     \n",
       "⋮   ⋮               ⋮        ⋮    ⋮        \n",
       "128 76.0            0.1      17.5 12.6     \n",
       "129 65.7            0.1      41.3  9.0     \n",
       "130 61.8            4.1      23.4 12.5     "
      ]
     },
     "metadata": {},
     "output_type": "display_data"
    }
   ],
   "source": [
    "### Split dataset into training and test set, with 3/4 of the data points to the former and 1/4 in the latter\n",
    "\n",
    "set.seed(3546)\n",
    "life_expectancy_split <-initial_split(life_expectancy_naomit, prop = 0.75, strata = \"Life_expectancy\")\n",
    "life_expectancy_training <- training(life_expectancy_split)\n",
    "life_expectancy_testing <- testing(life_expectancy_split)\n",
    "life_expectancy_training"
   ]
  },
  {
   "cell_type": "code",
   "execution_count": 21,
   "metadata": {},
   "outputs": [
    {
     "data": {
      "text/html": [
       "-0.632885203928099"
      ],
      "text/latex": [
       "-0.632885203928099"
      ],
      "text/markdown": [
       "-0.632885203928099"
      ],
      "text/plain": [
       "[1] -0.6328852"
      ]
     },
     "metadata": {},
     "output_type": "display_data"
    },
    {
     "data": {
      "text/html": [
       "0.441404057573889"
      ],
      "text/latex": [
       "0.441404057573889"
      ],
      "text/markdown": [
       "0.441404057573889"
      ],
      "text/plain": [
       "[1] 0.4414041"
      ]
     },
     "metadata": {},
     "output_type": "display_data"
    },
    {
     "data": {
      "text/html": [
       "0.826493303744978"
      ],
      "text/latex": [
       "0.826493303744978"
      ],
      "text/markdown": [
       "0.826493303744978"
      ],
      "text/plain": [
       "[1] 0.8264933"
      ]
     },
     "metadata": {},
     "output_type": "display_data"
    }
   ],
   "source": [
    "### Checking the correlation coefficients of each predictor\n",
    "\n",
    "# Pearson correlation between Life expectancy and HIV/AIDS\n",
    "cor(life_expectancy_training$Life_expectancy, life_expectancy_training$HIV.AIDS)\n",
    "# Pearson correlation between Life_expectancy and BMI\n",
    "cor(life_expectancy_training$Life_expectancy, life_expectancy_training$BMI)\n",
    "# # Pearson correlation between Life_expectancy and Schooling\n",
    "cor(life_expectancy_training$Life_expectancy, life_expectancy_training$Schooling)\n",
    "\n",
    "# HIV/AIDS and Schooling have a high correlation coefficient with life expectancy (between ± 0.50 and ± 1)\n",
    "# As such we will use them predict the life expectancy.\n",
    "# BMI does not have a high correlation coefficient and thus will not be included."
   ]
  },
  {
   "cell_type": "code",
   "execution_count": 22,
   "metadata": {},
   "outputs": [
    {
     "data": {
      "text/plain": [
       " Life_expectancy    HIV.AIDS           BMI          Schooling    \n",
       " Min.   :52.40   Min.   :0.1000   Min.   : 2.50   Min.   : 6.30  \n",
       " 1st Qu.:66.12   1st Qu.:0.1000   1st Qu.:23.90   1st Qu.:11.12  \n",
       " Median :73.95   Median :0.1000   Median :49.25   Median :13.10  \n",
       " Mean   :72.03   Mean   :0.5977   Mean   :42.10   Mean   :13.11  \n",
       " 3rd Qu.:76.85   3rd Qu.:0.3000   3rd Qu.:61.17   3rd Qu.:15.00  \n",
       " Max.   :88.00   Max.   :9.3000   Max.   :77.60   Max.   :20.40  "
      ]
     },
     "metadata": {},
     "output_type": "display_data"
    }
   ],
   "source": [
    "### The mean of each predictor\n",
    "\n",
    "summary(life_expectancy_training)"
   ]
  },
  {
   "cell_type": "code",
   "execution_count": 11,
   "metadata": {},
   "outputs": [
    {
     "data": {
      "image/png": "[encoded data removed]",
      "text/plain": [
       "plot without title"
      ]
     },
     "metadata": {
      "image/png": {
       "height": 1080,
       "width": 1020
      }
     },
     "output_type": "display_data"
    }
   ],
   "source": [
    "### Visualizig the distribution of each predictor\n",
    "\n",
    "library(cowplot)\n",
    "options(repr.plot.width = 17, repr.plot.height = 18)\n",
    "\n",
    "life_expectancy_hist <- ggplot(life_expectancy_training, aes(x = Life_expectancy)) +\n",
    "    geom_histogram(bins = 10) +\n",
    "    xlab(\"Life Expectancy (years)\") +\n",
    "    theme(text = element_text(size = 20))\n",
    "\n",
    "hiv_aids_hist <- ggplot(life_expectancy_training, aes(x = HIV.AIDS)) +\n",
    "    geom_histogram(bins = 10) +\n",
    "    xlab(\"Deaths per 1 000 live births HIV/AIDS\") +\n",
    "    theme(text = element_text(size = 20))\n",
    "\n",
    "bmi_hist <- ggplot(life_expectancy_training, aes(x = BMI)) +\n",
    "    geom_histogram(bins = 10) +\n",
    "    xlab(\"Average Body Mass Index (kg/m²)\") +\n",
    "    theme(text = element_text(size = 20))\n",
    "\n",
    "schooling_hist <- ggplot(life_expectancy_training, aes(x = Schooling)) +\n",
    "    geom_histogram(bins = 10) +\n",
    "    xlab(\"Number of years of schooling (years)\") +\n",
    "    theme(text = element_text(size = 20))\n",
    "\n",
    "plot_grid(life_expectancy_hist, hiv_aids_hist, bmi_hist, schooling_hist)"
   ]
  },
  {
   "cell_type": "markdown",
   "metadata": {},
   "source": [
    "#### New Patient Data Information\n"
   ]
  },
  {
   "cell_type": "markdown",
   "metadata": {},
   "source": [
    "### Methods\n",
    "+ After splitting the data into a test and training set, we used the `ggpair` function to visualise the correlation between variables and the distribution of each variable we chose (HIV/AIDS, BMI, Schooling) from our data set and target variable. \n",
    "\n",
    "+ If the predictors have a high correlation coefficient (between ± 0.50 and ± 1), we will use them to predict the life expectancy of the countries in our test data set. \n",
    "\n",
    "+ Life expectancy is a continuous variable and so, after preprocessing the data using standardization, we will use either KNN or linear regression to model the relationship between variables and life expectancy–  depending on the linearity of the relationship. \n",
    "\n",
    "+ For a visualization of our data, we will create 2 bar charts of top 10 countries with highest life expectancy using predicted value and true value each, and compare whether the order matches. "
   ]
  },
  {
   "cell_type": "markdown",
   "metadata": {},
   "source": [
    "## Expected outcomes and significance:\n",
    "\n",
    "We expect to find a positive relationship between schooling and life expectancy. We expect that the relationship between BMI and life expectancy, and between mortality due to HIV/Aids and life expectancy will be negative.\n",
    "\n",
    "Determining which predicting variables have the greatest impact on increasing life expectancy would enable countries to evaluate how to invest in different sectors such as healthcare, or education, in order to increase life expectancy for its citizens. Knowing what factors affect life expectancy would also enable individuals to make decisions in their spending and political affiliation that could improve their own outcomes.\n",
    "\n",
    "Further questions which could be investigated include looking at whether average population density negatively or positively affects life expectancy, and how much having health insurance improves life expectancy.\n"
   ]
  },
  {
   "cell_type": "markdown",
   "metadata": {},
   "source": [
    "## References\n",
    "\n",
    "Crimmins E. M. (2015). Lifespan and Healthspan: Past, Present, and Promise. _The Gerontologist,_ 55(6), 901–911. https://doi.org/10.1093/geront/gnv130\n",
    "\n",
    "Novak, A., Čepar, Z., and Trunk, A. (2016). The role of expected years of schooling among life expectancy determinants. _International Journal of Innovation and Learning_. 20(1). https://www.inderscienceonline.com/doi/pdf/10.1504/IJIL.2016.076673"
   ]
  },
  {
   "cell_type": "markdown",
   "metadata": {},
   "source": [
    "Still to do: [Aim to have your parts finished Monday April 4th]\n",
    "\n",
    "Test data\n",
    "Add title to graphs\n",
    "Scale ? \n",
    "Recipe (scaling and centering) ?\n",
    "\n",
    "MODEL (KNN regression) - **Emma P**\n",
    "Workflow, engine and new prediction\n",
    "Test model with testing data + check accuracy\n",
    "New data point (displayed in a table)\n",
    "prediction (for new datapoint / person)\n",
    "            \n",
    "            \n",
    "METHODS - Add KNN regression steps and all others  **Jioh**\n",
    "\n",
    "\n",
    "RESULTS **Yutong**\n",
    "            Two sets: \n",
    "            one without the new point\n",
    "            Include new data point on a second plot (and circle it)\n",
    "            Captions for graphs\n",
    "            \n",
    "            \n",
    "DISCUSSION **Emma D**\n",
    "- summarize what you found \n",
    "- discuss whether this is what you expected to find?\n",
    "- discuss what impact could such findings have?\n",
    "- discuss what future questions could this lead to?\n",
    "            \n",
    "            \n",
    "CHECK:**EMMA D**\n",
    "            Spelling/grammar\n",
    "            Code errors and readability\n",
    "            Titles (human readable and correctly formatted on ALL graphs)\n",
    "            Make sure code runs for everyone \n"
   ]
  },
  {
   "cell_type": "code",
   "execution_count": null,
   "metadata": {},
   "outputs": [],
   "source": []
  }
 ],
 "metadata": {
  "kernelspec": {
   "display_name": "R",
   "language": "R",
   "name": "ir"
  },
  "language_info": {
   "codemirror_mode": "r",
   "file_extension": ".r",
   "mimetype": "text/x-r-source",
   "name": "R",
   "pygments_lexer": "r",
   "version": "4.0.0"
  }
 },
 "nbformat": 4,
 "nbformat_minor": 4
}
