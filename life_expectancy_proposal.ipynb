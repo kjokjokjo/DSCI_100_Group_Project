{
 "cells": [
  {
   "cell_type": "markdown",
   "metadata": {},
   "source": [
    "# Predicting life expectancy using a regression model\n",
    "\n",
    "\n",
    "### Introduction\n",
    "\n",
    "\n",
    "- Bullet\n",
    "  - extra bullet A\n",
    "  - extra bullet B\n",
    "\n",
    "  -use apostrophes for functions/code unless adding to a code box, ie: `read_csv`\n"
   ]
  },
  {
   "cell_type": "markdown",
   "metadata": {},
   "source": [
    "### Preliminary exploratory data analysis\n",
    "\n",
    "- Demonstrate that the dataset can be read from the web into R \n",
    "- Clean and wrangle your data into a tidy format\n",
    "- Using only training data, summarize the data in at least one table (this is exploratory data analysis). An example of a useful table could be one that reports the number of observations in each class, the means of the predictor variables you plan to use in your analysis and how many rows have missing data. \n",
    "- Using only training data, visualize the data with at least one plot relevant to the analysis you plan to do (this is exploratory data analysis). An example of a useful visualization could be one that compares the distributions of each of the predictor variables you plan to use in your analysis.\n"
   ]
  },
  {
   "cell_type": "markdown",
   "metadata": {},
   "source": [
    "## Methods\n",
    "- Explain how you will conduct either your data analysis and which variables/columns you will use. Note - you do not need to use all variables/columns that exist in the raw data set. In fact, that's often not a good idea. For each variable think: is this a useful variable for prediction?\n",
    "\n",
    "  - ie. We will use a correlation matrix, as in the preliminary exploratory data analysis, to determine which variables from our data set have a strong correlation/relationship with life expectancy, which will be our fixed variable.\n",
    "## _NOTE to group: ask if we should split data into a test and training set _before_ doing the above please. If so change the order to reflect this.\n",
    "  - Using Pearson correlation coefficient, we will then predict the life expectancy of the countries in our test data set\n",
    "  \n",
    "  \n",
    "## _Extra Note for group members: Correlation tests if two variables have any kind of relationship, while p-value indicates whether the a result is statistically significant.\n",
    "  \n",
    "- Describe at least one way that you will visualize the results\n"
   ]
  },
  {
   "cell_type": "markdown",
   "metadata": {},
   "source": [
    "## Expected outcomes and significance:\n",
    "- What do you expect to find?\n",
    "- What impact could such findings have?\n",
    "- What future questions could this lead to?\n"
   ]
  },
  {
   "cell_type": "code",
   "execution_count": null,
   "metadata": {},
   "outputs": [],
   "source": []
  },
  {
   "cell_type": "markdown",
   "metadata": {},
   "source": [
    "### (suggested) Style Guide for Group (use three hashtags, ###, to create sub headings\n",
    "\n",
    "**use stars for bold type** **\n",
    "\n",
    "- use a dash - to get a Bullet\n",
    "  - and another for an extra bullet \n",
    "  - or two...\n",
    "  -use apostrophes ' for functions/code unless adding to a code box, ie: `read_csv`\n",
    "  - and underscores, _ , for _italics_\n"
   ]
  },
  {
   "cell_type": "code",
   "execution_count": null,
   "metadata": {},
   "outputs": [],
   "source": []
  }
 ],
 "metadata": {
  "kernelspec": {
   "display_name": "R",
   "language": "R",
   "name": "ir"
  },
  "language_info": {
   "codemirror_mode": "r",
   "file_extension": ".r",
   "mimetype": "text/x-r-source",
   "name": "R",
   "pygments_lexer": "r",
   "version": "4.0.0"
  }
 },
 "nbformat": 4,
 "nbformat_minor": 4
}
