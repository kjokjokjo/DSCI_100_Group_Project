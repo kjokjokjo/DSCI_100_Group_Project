{
 "cells": [
  {
   "cell_type": "markdown",
   "metadata": {},
   "source": [
    "# Predicting life expectancy using a regression model\n",
    "\n",
    "\n",
    "### Introduction\n",
    "\n",
    "The human lifespan has changed drastically over the past century, increasing from an average 47.3 years of age in 1900, to 78.8 by 2010 (Crimmins, 2015). Yet this impressive increase in the average life expectancy at birth does not reflect the inequalities in life expectancy which are seen across the socioeconomic divide. \n",
    "\n",
    "The Global Health Observatory (GHO) data repository under World Health Organization (WHO) keeps track of the health status as well as many other related factors for all countries. The dataset related to life expectancy, health factors for 193 countries has been collected from the same WHO data repository website. Among all categories of health-related factors, only critical factors, such as immunization, economic, and social factor were chosen and has been observed for 193 countries from 2000 to 2015. We will use vaccination against HIV/AIDS mortality rate per 1000 live births, as well as BMI, and years of education to predict life expectancy using a linear regression model.\n"
   ]
  },
  {
   "cell_type": "markdown",
   "metadata": {},
   "source": [
    "### Why these Predictors?\n",
    "+ **HIV/AIDS** has been proven to shorten life expectancy by increasing the risk of other illnesses like heart disease or diabetes. This is caused by the virus weakening the immune system, making one more susceptible to illnesses and making those illnesses more likely to end in death.\n",
    "\n",
    "+ **BMI** can be considered a proxy for health and can have a direct impact on life expectancy. As person gets further from a healthy BMI range, their life expectancy decreases.\n",
    "\n",
    "+ **Schooling**, contrary to BMI, can increase life expectancy. It has been shown in multiple studies that people with higher levels of education tend to have longer life expectancies.\n"
   ]
  },
  {
   "cell_type": "markdown",
   "metadata": {},
   "source": [
    "## Expected outcomes and significance:\n",
    "\n",
    "We expect to find a positive relationship between schooling and life expectancy. We expect that the relationship between BMI and life expectancy, and between mortality due to HIV/Aids and life expectancy will be negative.\n",
    "\n",
    "Determining which predicting variables have the greatest impact on increasing life expectancy would enable countries to evaluate how to invest in different sectors such as healthcare, or education, in order to increase life expectancy for its citizens. Knowing what factors affect life expectancy would also enable individuals to make decisions in their spending and political affiliation that could improve their own outcomes.\n",
    "\n",
    "Further questions which could be investigated include looking at whether average population density negatively or positively affects life expectancy, and how much having health insurance improves life expectancy.\n"
   ]
  },
  {
   "cell_type": "markdown",
   "metadata": {},
   "source": [
    "## Methods\n",
    "#### Our Plan\n",
    "\n",
    "In this project, we will use regression to predict life expectancy using a linear regression model. We will analyze our data by splitting data into training and testing data, doing regression, and cross-validation to assess the function of our model. After the accuracy of the model is evaluated, we will make a prediction for the life expectancy in 2015 of new country, which a mortality due to HIV/AIDS, BMI, and year of schooling are known, but life expectancy is unknown. \n"
   ]
  },
  {
   "cell_type": "markdown",
   "metadata": {},
   "source": [
    "#### The Steps We Took\n",
    "\n",
    "The first step we took for the prediction was loading our data into Jupyter. We then changed blanks in names of columns into ‘.’ . This allowed us to use the names of variables we chose in our analysis more easily. Since the dataset contains value from 2000 to 2015 for 193 countries and our goal was not to check time series change, we decided to use only data from 2015. We filtered the data using ‘Year’ variable, and then selected the variables we chose; HIV/AIDS, BMI, and schooling. Also, we checked the number of missing data in each variable and deleted those missing data. \n",
    "\n",
    "Afterwards, we split the data into 75% training data and 25% testing data and summarized the data to check the mean and median for our variables using summary function. Also, we created histograms of each variable so that we could check distributions of each variable using training data. \n",
    "\n",
    "#### NOTE: Creating new data?\n",
    "\n",
    "We used ggpairs function to visualize the correlation between the predictors and the target variable and the distribution of each variable we chose from our training set, so that we can confirm which predictors and regression models we are going to use, creating the plot.\n",
    "\n",
    "Following this, we preprocessed the training set by scaling and centering and made regression model, tuning our nearest neighbors. Then we did 5-fold cross-validation by testing grid of K values from and created the table showing their mean and standard error of RMSE. To visualize the result and determine our best K value, we made a line/scatter plot of the neighbours and determined the best K value. \n",
    "\n",
    "With our best K value, we finally created a new K nearest neighbor regression model and used it to predict the life expectancy of our test data. Also, we evaluated our model on testing set but computing the summary of regression quality. \n",
    "\n",
    "#### NOTE: Predicting for the new data? \n"
   ]
  },
  {
   "cell_type": "markdown",
   "metadata": {},
   "source": [
    "### Data Analysis\n",
    "#### Loading required package and Dataset\n",
    "\n"
   ]
  },
  {
   "cell_type": "code",
   "execution_count": 1,
   "metadata": {},
   "outputs": [
    {
     "name": "stderr",
     "output_type": "stream",
     "text": [
      "── \u001b[1mAttaching packages\u001b[22m ─────────────────────────────────────── tidyverse 1.3.0 ──\n",
      "\n",
      "\u001b[32m✔\u001b[39m \u001b[34mggplot2\u001b[39m 3.3.2     \u001b[32m✔\u001b[39m \u001b[34mpurrr  \u001b[39m 0.3.4\n",
      "\u001b[32m✔\u001b[39m \u001b[34mtibble \u001b[39m 3.0.3     \u001b[32m✔\u001b[39m \u001b[34mdplyr  \u001b[39m 1.0.2\n",
      "\u001b[32m✔\u001b[39m \u001b[34mtidyr  \u001b[39m 1.1.2     \u001b[32m✔\u001b[39m \u001b[34mstringr\u001b[39m 1.4.0\n",
      "\u001b[32m✔\u001b[39m \u001b[34mreadr  \u001b[39m 1.3.1     \u001b[32m✔\u001b[39m \u001b[34mforcats\u001b[39m 0.5.0\n",
      "\n",
      "Warning message:\n",
      "“package ‘ggplot2’ was built under R version 4.0.1”\n",
      "Warning message:\n",
      "“package ‘tibble’ was built under R version 4.0.2”\n",
      "Warning message:\n",
      "“package ‘tidyr’ was built under R version 4.0.2”\n",
      "Warning message:\n",
      "“package ‘dplyr’ was built under R version 4.0.2”\n",
      "── \u001b[1mConflicts\u001b[22m ────────────────────────────────────────── tidyverse_conflicts() ──\n",
      "\u001b[31m✖\u001b[39m \u001b[34mdplyr\u001b[39m::\u001b[32mfilter()\u001b[39m masks \u001b[34mstats\u001b[39m::filter()\n",
      "\u001b[31m✖\u001b[39m \u001b[34mdplyr\u001b[39m::\u001b[32mlag()\u001b[39m    masks \u001b[34mstats\u001b[39m::lag()\n",
      "\n",
      "Warning message:\n",
      "“package ‘tidymodels’ was built under R version 4.0.2”\n",
      "── \u001b[1mAttaching packages\u001b[22m ────────────────────────────────────── tidymodels 0.1.1 ──\n",
      "\n",
      "\u001b[32m✔\u001b[39m \u001b[34mbroom    \u001b[39m 0.7.0      \u001b[32m✔\u001b[39m \u001b[34mrecipes  \u001b[39m 0.1.13\n",
      "\u001b[32m✔\u001b[39m \u001b[34mdials    \u001b[39m 0.0.9      \u001b[32m✔\u001b[39m \u001b[34mrsample  \u001b[39m 0.0.7 \n",
      "\u001b[32m✔\u001b[39m \u001b[34minfer    \u001b[39m 0.5.4      \u001b[32m✔\u001b[39m \u001b[34mtune     \u001b[39m 0.1.1 \n",
      "\u001b[32m✔\u001b[39m \u001b[34mmodeldata\u001b[39m 0.0.2      \u001b[32m✔\u001b[39m \u001b[34mworkflows\u001b[39m 0.2.0 \n",
      "\u001b[32m✔\u001b[39m \u001b[34mparsnip  \u001b[39m 0.1.3      \u001b[32m✔\u001b[39m \u001b[34myardstick\u001b[39m 0.0.7 \n",
      "\n",
      "Warning message:\n",
      "“package ‘broom’ was built under R version 4.0.2”\n",
      "Warning message:\n",
      "“package ‘dials’ was built under R version 4.0.2”\n",
      "Warning message:\n",
      "“package ‘infer’ was built under R version 4.0.3”\n",
      "Warning message:\n",
      "“package ‘modeldata’ was built under R version 4.0.1”\n",
      "Warning message:\n",
      "“package ‘parsnip’ was built under R version 4.0.2”\n",
      "Warning message:\n",
      "“package ‘recipes’ was built under R version 4.0.1”\n",
      "Warning message:\n",
      "“package ‘tune’ was built under R version 4.0.2”\n",
      "Warning message:\n",
      "“package ‘workflows’ was built under R version 4.0.2”\n",
      "Warning message:\n",
      "“package ‘yardstick’ was built under R version 4.0.2”\n",
      "── \u001b[1mConflicts\u001b[22m ───────────────────────────────────────── tidymodels_conflicts() ──\n",
      "\u001b[31m✖\u001b[39m \u001b[34mscales\u001b[39m::\u001b[32mdiscard()\u001b[39m masks \u001b[34mpurrr\u001b[39m::discard()\n",
      "\u001b[31m✖\u001b[39m \u001b[34mdplyr\u001b[39m::\u001b[32mfilter()\u001b[39m   masks \u001b[34mstats\u001b[39m::filter()\n",
      "\u001b[31m✖\u001b[39m \u001b[34mrecipes\u001b[39m::\u001b[32mfixed()\u001b[39m  masks \u001b[34mstringr\u001b[39m::fixed()\n",
      "\u001b[31m✖\u001b[39m \u001b[34mdplyr\u001b[39m::\u001b[32mlag()\u001b[39m      masks \u001b[34mstats\u001b[39m::lag()\n",
      "\u001b[31m✖\u001b[39m \u001b[34myardstick\u001b[39m::\u001b[32mspec()\u001b[39m masks \u001b[34mreadr\u001b[39m::spec()\n",
      "\u001b[31m✖\u001b[39m \u001b[34mrecipes\u001b[39m::\u001b[32mstep()\u001b[39m   masks \u001b[34mstats\u001b[39m::step()\n",
      "\n"
     ]
    }
   ],
   "source": [
    "# Import library\n",
    "\n",
    "library(tidyverse)\n",
    "library(repr)\n",
    "library(tidymodels)\n",
    "options(repr.matrix.max.rows = 6)\n",
    "library(readxl)"
   ]
  },
  {
   "cell_type": "code",
   "execution_count": 2,
   "metadata": {},
   "outputs": [
    {
     "name": "stderr",
     "output_type": "stream",
     "text": [
      "Parsed with column specification:\n",
      "cols(\n",
      "  .default = col_double(),\n",
      "  Country = \u001b[31mcol_character()\u001b[39m,\n",
      "  Status = \u001b[31mcol_character()\u001b[39m\n",
      ")\n",
      "\n",
      "See spec(...) for full column specifications.\n",
      "\n"
     ]
    },
    {
     "data": {
      "text/html": [
       "<table>\n",
       "<caption>A tibble: 6 × 22</caption>\n",
       "<thead>\n",
       "\t<tr><th scope=col>Country</th><th scope=col>Year</th><th scope=col>Status</th><th scope=col>Life_expectancy</th><th scope=col>Adult_Mortality</th><th scope=col>infant_deaths</th><th scope=col>Alcohol</th><th scope=col>percentage_expenditure</th><th scope=col>Hepatitis_B</th><th scope=col>Measles</th><th scope=col>⋯</th><th scope=col>Polio</th><th scope=col>Total_expenditure</th><th scope=col>Diphtheria</th><th scope=col>HIV.AIDS</th><th scope=col>GDP</th><th scope=col>Population</th><th scope=col>thinness_1.19_years</th><th scope=col>thinness_5.9_years</th><th scope=col>Income_composition_of_resources</th><th scope=col>Schooling</th></tr>\n",
       "\t<tr><th scope=col>&lt;chr&gt;</th><th scope=col>&lt;dbl&gt;</th><th scope=col>&lt;chr&gt;</th><th scope=col>&lt;dbl&gt;</th><th scope=col>&lt;dbl&gt;</th><th scope=col>&lt;dbl&gt;</th><th scope=col>&lt;dbl&gt;</th><th scope=col>&lt;dbl&gt;</th><th scope=col>&lt;dbl&gt;</th><th scope=col>&lt;dbl&gt;</th><th scope=col>⋯</th><th scope=col>&lt;dbl&gt;</th><th scope=col>&lt;dbl&gt;</th><th scope=col>&lt;dbl&gt;</th><th scope=col>&lt;dbl&gt;</th><th scope=col>&lt;dbl&gt;</th><th scope=col>&lt;dbl&gt;</th><th scope=col>&lt;dbl&gt;</th><th scope=col>&lt;dbl&gt;</th><th scope=col>&lt;dbl&gt;</th><th scope=col>&lt;dbl&gt;</th></tr>\n",
       "</thead>\n",
       "<tbody>\n",
       "\t<tr><td>Afghanistan</td><td>2015</td><td>Developing</td><td>65.0</td><td>263</td><td>62</td><td>0.01</td><td>71.279624</td><td>65</td><td>1154</td><td>⋯</td><td> 6</td><td>8.16</td><td>65</td><td>0.1</td><td>584.25921</td><td>33736494</td><td>17.2</td><td>17.3</td><td>0.479</td><td>10.1</td></tr>\n",
       "\t<tr><td>Afghanistan</td><td>2014</td><td>Developing</td><td>59.9</td><td>271</td><td>64</td><td>0.01</td><td>73.523582</td><td>62</td><td> 492</td><td>⋯</td><td>58</td><td>8.18</td><td>62</td><td>0.1</td><td>612.69651</td><td>  327582</td><td>17.5</td><td>17.5</td><td>0.476</td><td>10.0</td></tr>\n",
       "\t<tr><td>Afghanistan</td><td>2013</td><td>Developing</td><td>59.9</td><td>268</td><td>66</td><td>0.01</td><td>73.219243</td><td>64</td><td> 430</td><td>⋯</td><td>62</td><td>8.13</td><td>64</td><td>0.1</td><td>631.74498</td><td>31731688</td><td>17.7</td><td>17.7</td><td>0.470</td><td> 9.9</td></tr>\n",
       "\t<tr><td>Afghanistan</td><td>2012</td><td>Developing</td><td>59.5</td><td>272</td><td>69</td><td>0.01</td><td>78.184215</td><td>67</td><td>2787</td><td>⋯</td><td>67</td><td>8.52</td><td>67</td><td>0.1</td><td>669.95900</td><td> 3696958</td><td>17.9</td><td>18.0</td><td>0.463</td><td> 9.8</td></tr>\n",
       "\t<tr><td>Afghanistan</td><td>2011</td><td>Developing</td><td>59.2</td><td>275</td><td>71</td><td>0.01</td><td> 7.097109</td><td>68</td><td>3013</td><td>⋯</td><td>68</td><td>7.87</td><td>68</td><td>0.1</td><td> 63.53723</td><td> 2978599</td><td>18.2</td><td>18.2</td><td>0.454</td><td> 9.5</td></tr>\n",
       "\t<tr><td>Afghanistan</td><td>2010</td><td>Developing</td><td>58.8</td><td>279</td><td>74</td><td>0.01</td><td>79.679367</td><td>66</td><td>1989</td><td>⋯</td><td>66</td><td>9.20</td><td>66</td><td>0.1</td><td>553.32894</td><td> 2883167</td><td>18.4</td><td>18.4</td><td>0.448</td><td> 9.2</td></tr>\n",
       "</tbody>\n",
       "</table>\n"
      ],
      "text/latex": [
       "A tibble: 6 × 22\n",
       "\\begin{tabular}{lllllllllllllllllllll}\n",
       " Country & Year & Status & Life\\_expectancy & Adult\\_Mortality & infant\\_deaths & Alcohol & percentage\\_expenditure & Hepatitis\\_B & Measles & ⋯ & Polio & Total\\_expenditure & Diphtheria & HIV.AIDS & GDP & Population & thinness\\_1.19\\_years & thinness\\_5.9\\_years & Income\\_composition\\_of\\_resources & Schooling\\\\\n",
       " <chr> & <dbl> & <chr> & <dbl> & <dbl> & <dbl> & <dbl> & <dbl> & <dbl> & <dbl> & ⋯ & <dbl> & <dbl> & <dbl> & <dbl> & <dbl> & <dbl> & <dbl> & <dbl> & <dbl> & <dbl>\\\\\n",
       "\\hline\n",
       "\t Afghanistan & 2015 & Developing & 65.0 & 263 & 62 & 0.01 & 71.279624 & 65 & 1154 & ⋯ &  6 & 8.16 & 65 & 0.1 & 584.25921 & 33736494 & 17.2 & 17.3 & 0.479 & 10.1\\\\\n",
       "\t Afghanistan & 2014 & Developing & 59.9 & 271 & 64 & 0.01 & 73.523582 & 62 &  492 & ⋯ & 58 & 8.18 & 62 & 0.1 & 612.69651 &   327582 & 17.5 & 17.5 & 0.476 & 10.0\\\\\n",
       "\t Afghanistan & 2013 & Developing & 59.9 & 268 & 66 & 0.01 & 73.219243 & 64 &  430 & ⋯ & 62 & 8.13 & 64 & 0.1 & 631.74498 & 31731688 & 17.7 & 17.7 & 0.470 &  9.9\\\\\n",
       "\t Afghanistan & 2012 & Developing & 59.5 & 272 & 69 & 0.01 & 78.184215 & 67 & 2787 & ⋯ & 67 & 8.52 & 67 & 0.1 & 669.95900 &  3696958 & 17.9 & 18.0 & 0.463 &  9.8\\\\\n",
       "\t Afghanistan & 2011 & Developing & 59.2 & 275 & 71 & 0.01 &  7.097109 & 68 & 3013 & ⋯ & 68 & 7.87 & 68 & 0.1 &  63.53723 &  2978599 & 18.2 & 18.2 & 0.454 &  9.5\\\\\n",
       "\t Afghanistan & 2010 & Developing & 58.8 & 279 & 74 & 0.01 & 79.679367 & 66 & 1989 & ⋯ & 66 & 9.20 & 66 & 0.1 & 553.32894 &  2883167 & 18.4 & 18.4 & 0.448 &  9.2\\\\\n",
       "\\end{tabular}\n"
      ],
      "text/markdown": [
       "\n",
       "A tibble: 6 × 22\n",
       "\n",
       "| Country &lt;chr&gt; | Year &lt;dbl&gt; | Status &lt;chr&gt; | Life_expectancy &lt;dbl&gt; | Adult_Mortality &lt;dbl&gt; | infant_deaths &lt;dbl&gt; | Alcohol &lt;dbl&gt; | percentage_expenditure &lt;dbl&gt; | Hepatitis_B &lt;dbl&gt; | Measles &lt;dbl&gt; | ⋯ ⋯ | Polio &lt;dbl&gt; | Total_expenditure &lt;dbl&gt; | Diphtheria &lt;dbl&gt; | HIV.AIDS &lt;dbl&gt; | GDP &lt;dbl&gt; | Population &lt;dbl&gt; | thinness_1.19_years &lt;dbl&gt; | thinness_5.9_years &lt;dbl&gt; | Income_composition_of_resources &lt;dbl&gt; | Schooling &lt;dbl&gt; |\n",
       "|---|---|---|---|---|---|---|---|---|---|---|---|---|---|---|---|---|---|---|---|---|\n",
       "| Afghanistan | 2015 | Developing | 65.0 | 263 | 62 | 0.01 | 71.279624 | 65 | 1154 | ⋯ |  6 | 8.16 | 65 | 0.1 | 584.25921 | 33736494 | 17.2 | 17.3 | 0.479 | 10.1 |\n",
       "| Afghanistan | 2014 | Developing | 59.9 | 271 | 64 | 0.01 | 73.523582 | 62 |  492 | ⋯ | 58 | 8.18 | 62 | 0.1 | 612.69651 |   327582 | 17.5 | 17.5 | 0.476 | 10.0 |\n",
       "| Afghanistan | 2013 | Developing | 59.9 | 268 | 66 | 0.01 | 73.219243 | 64 |  430 | ⋯ | 62 | 8.13 | 64 | 0.1 | 631.74498 | 31731688 | 17.7 | 17.7 | 0.470 |  9.9 |\n",
       "| Afghanistan | 2012 | Developing | 59.5 | 272 | 69 | 0.01 | 78.184215 | 67 | 2787 | ⋯ | 67 | 8.52 | 67 | 0.1 | 669.95900 |  3696958 | 17.9 | 18.0 | 0.463 |  9.8 |\n",
       "| Afghanistan | 2011 | Developing | 59.2 | 275 | 71 | 0.01 |  7.097109 | 68 | 3013 | ⋯ | 68 | 7.87 | 68 | 0.1 |  63.53723 |  2978599 | 18.2 | 18.2 | 0.454 |  9.5 |\n",
       "| Afghanistan | 2010 | Developing | 58.8 | 279 | 74 | 0.01 | 79.679367 | 66 | 1989 | ⋯ | 66 | 9.20 | 66 | 0.1 | 553.32894 |  2883167 | 18.4 | 18.4 | 0.448 |  9.2 |\n",
       "\n"
      ],
      "text/plain": [
       "  Country     Year Status     Life_expectancy Adult_Mortality infant_deaths\n",
       "1 Afghanistan 2015 Developing 65.0            263             62           \n",
       "2 Afghanistan 2014 Developing 59.9            271             64           \n",
       "3 Afghanistan 2013 Developing 59.9            268             66           \n",
       "4 Afghanistan 2012 Developing 59.5            272             69           \n",
       "5 Afghanistan 2011 Developing 59.2            275             71           \n",
       "6 Afghanistan 2010 Developing 58.8            279             74           \n",
       "  Alcohol percentage_expenditure Hepatitis_B Measles ⋯ Polio Total_expenditure\n",
       "1 0.01    71.279624              65          1154    ⋯  6    8.16             \n",
       "2 0.01    73.523582              62           492    ⋯ 58    8.18             \n",
       "3 0.01    73.219243              64           430    ⋯ 62    8.13             \n",
       "4 0.01    78.184215              67          2787    ⋯ 67    8.52             \n",
       "5 0.01     7.097109              68          3013    ⋯ 68    7.87             \n",
       "6 0.01    79.679367              66          1989    ⋯ 66    9.20             \n",
       "  Diphtheria HIV.AIDS GDP       Population thinness_1.19_years\n",
       "1 65         0.1      584.25921 33736494   17.2               \n",
       "2 62         0.1      612.69651   327582   17.5               \n",
       "3 64         0.1      631.74498 31731688   17.7               \n",
       "4 67         0.1      669.95900  3696958   17.9               \n",
       "5 68         0.1       63.53723  2978599   18.2               \n",
       "6 66         0.1      553.32894  2883167   18.4               \n",
       "  thinness_5.9_years Income_composition_of_resources Schooling\n",
       "1 17.3               0.479                           10.1     \n",
       "2 17.5               0.476                           10.0     \n",
       "3 17.7               0.470                            9.9     \n",
       "4 18.0               0.463                            9.8     \n",
       "5 18.2               0.454                            9.5     \n",
       "6 18.4               0.448                            9.2     "
      ]
     },
     "metadata": {},
     "output_type": "display_data"
    }
   ],
   "source": [
    "### Read dataset and change column names\n",
    "\n",
    "life_data <- read_csv(\"https://raw.githubusercontent.com/kjokjokjo/DSCI_100_Group_Project/main/Life_Expectancy_Data.csv\") \n",
    "\n",
    "colnames(life_data) <- make.names(colnames(life_data))\n",
    "\n",
    "head(life_data)"
   ]
  },
  {
   "cell_type": "markdown",
   "metadata": {},
   "source": [
    "Table 1. First 6 rows of the WHO dataset containing life expectancy and other variables"
   ]
  },
  {
   "cell_type": "markdown",
   "metadata": {},
   "source": [
    "#### Descriptions for each Variables\n",
    "+ Life_expectancy: Life Expectancy in age\n",
    "+ HIV.AIDS: Deaths per 1 000 live births HIV/AIDS (0-4 years)\n",
    "+ BMI: Average Body Mass Index of entire population\n",
    "+ Schooling: Number of years of Schooling(years)"
   ]
  },
  {
   "cell_type": "code",
   "execution_count": 17,
   "metadata": {},
   "outputs": [
    {
     "data": {
      "text/html": [
       "<table>\n",
       "<caption>A tibble: 183 × 3</caption>\n",
       "<thead>\n",
       "\t<tr><th scope=col>Life_expectancy</th><th scope=col>HIV.AIDS</th><th scope=col>Schooling</th></tr>\n",
       "\t<tr><th scope=col>&lt;dbl&gt;</th><th scope=col>&lt;dbl&gt;</th><th scope=col>&lt;dbl&gt;</th></tr>\n",
       "</thead>\n",
       "<tbody>\n",
       "\t<tr><td>65.0</td><td>0.1</td><td>10.1</td></tr>\n",
       "\t<tr><td>77.8</td><td>0.1</td><td>14.2</td></tr>\n",
       "\t<tr><td>75.6</td><td>0.1</td><td>14.4</td></tr>\n",
       "\t<tr><td>⋮</td><td>⋮</td><td>⋮</td></tr>\n",
       "\t<tr><td>65.7</td><td>0.1</td><td> 9.0</td></tr>\n",
       "\t<tr><td>61.8</td><td>4.1</td><td>12.5</td></tr>\n",
       "\t<tr><td>67.0</td><td>6.2</td><td>10.3</td></tr>\n",
       "</tbody>\n",
       "</table>\n"
      ],
      "text/latex": [
       "A tibble: 183 × 3\n",
       "\\begin{tabular}{lll}\n",
       " Life\\_expectancy & HIV.AIDS & Schooling\\\\\n",
       " <dbl> & <dbl> & <dbl>\\\\\n",
       "\\hline\n",
       "\t 65.0 & 0.1 & 10.1\\\\\n",
       "\t 77.8 & 0.1 & 14.2\\\\\n",
       "\t 75.6 & 0.1 & 14.4\\\\\n",
       "\t ⋮ & ⋮ & ⋮\\\\\n",
       "\t 65.7 & 0.1 &  9.0\\\\\n",
       "\t 61.8 & 4.1 & 12.5\\\\\n",
       "\t 67.0 & 6.2 & 10.3\\\\\n",
       "\\end{tabular}\n"
      ],
      "text/markdown": [
       "\n",
       "A tibble: 183 × 3\n",
       "\n",
       "| Life_expectancy &lt;dbl&gt; | HIV.AIDS &lt;dbl&gt; | Schooling &lt;dbl&gt; |\n",
       "|---|---|---|\n",
       "| 65.0 | 0.1 | 10.1 |\n",
       "| 77.8 | 0.1 | 14.2 |\n",
       "| 75.6 | 0.1 | 14.4 |\n",
       "| ⋮ | ⋮ | ⋮ |\n",
       "| 65.7 | 0.1 |  9.0 |\n",
       "| 61.8 | 4.1 | 12.5 |\n",
       "| 67.0 | 6.2 | 10.3 |\n",
       "\n"
      ],
      "text/plain": [
       "    Life_expectancy HIV.AIDS Schooling\n",
       "1   65.0            0.1      10.1     \n",
       "2   77.8            0.1      14.2     \n",
       "3   75.6            0.1      14.4     \n",
       "⋮   ⋮               ⋮        ⋮        \n",
       "181 65.7            0.1       9.0     \n",
       "182 61.8            4.1      12.5     \n",
       "183 67.0            6.2      10.3     "
      ]
     },
     "metadata": {},
     "output_type": "display_data"
    }
   ],
   "source": [
    "### Filter the data in 2015 and Select predictors; Life Expectancy(Target), HIV/AIDS, BMI, Schooling(Predictors)\n",
    "\n",
    "life_expectancy_select <- life_data %>%\n",
    "                    filter(Year == 2015) %>% \n",
    "                    select(Life_expectancy, HIV.AIDS, Schooling)\n",
    "\n",
    "life_expectancy_select"
   ]
  },
  {
   "cell_type": "markdown",
   "metadata": {},
   "source": [
    "Table 2. Life expectancy dataset containing HIV.AIDS, BMI, and schooling column"
   ]
  },
  {
   "cell_type": "markdown",
   "metadata": {},
   "source": [
    "#### Training Data Information \n",
    "\n",
    "When we checked whether there are any missing data of each predictor, there were 2 missing value in ‘BMI’ and 10 missing value in ‘Schooling’, so we deleted these missing data. "
   ]
  },
  {
   "cell_type": "code",
   "execution_count": 18,
   "metadata": {},
   "outputs": [
    {
     "data": {
      "text/html": [
       "<style>\n",
       ".dl-inline {width: auto; margin:0; padding: 0}\n",
       ".dl-inline>dt, .dl-inline>dd {float: none; width: auto; display: inline-block}\n",
       ".dl-inline>dt::after {content: \":\\0020\"; padding-right: .5ex}\n",
       ".dl-inline>dt:not(:first-of-type) {padding-left: .5ex}\n",
       "</style><dl class=dl-inline><dt>Life_expectancy</dt><dd>0</dd><dt>HIV.AIDS</dt><dd>0</dd><dt>Schooling</dt><dd>10</dd></dl>\n"
      ],
      "text/latex": [
       "\\begin{description*}\n",
       "\\item[Life\\textbackslash{}\\_expectancy] 0\n",
       "\\item[HIV.AIDS] 0\n",
       "\\item[Schooling] 10\n",
       "\\end{description*}\n"
      ],
      "text/markdown": [
       "Life_expectancy\n",
       ":   0HIV.AIDS\n",
       ":   0Schooling\n",
       ":   10\n",
       "\n"
      ],
      "text/plain": [
       "Life_expectancy        HIV.AIDS       Schooling \n",
       "              0               0              10 "
      ]
     },
     "metadata": {},
     "output_type": "display_data"
    }
   ],
   "source": [
    "### The number of missing data points for each predictor\n",
    "\n",
    "colSums(is.na(life_expectancy_select))"
   ]
  },
  {
   "cell_type": "code",
   "execution_count": 19,
   "metadata": {},
   "outputs": [],
   "source": [
    "### Delete missing data\n",
    "life_expectancy_naomit <- na.omit(life_expectancy_select)"
   ]
  },
  {
   "cell_type": "code",
   "execution_count": 20,
   "metadata": {},
   "outputs": [
    {
     "data": {
      "text/html": [
       "-0.613878377931951"
      ],
      "text/latex": [
       "-0.613878377931951"
      ],
      "text/markdown": [
       "-0.613878377931951"
      ],
      "text/plain": [
       "[1] -0.6138784"
      ]
     },
     "metadata": {},
     "output_type": "display_data"
    },
    {
     "name": "stderr",
     "output_type": "stream",
     "text": [
      "Warning message:\n",
      "“Unknown or uninitialised column: `BMI`.”\n"
     ]
    },
    {
     "ename": "ERROR",
     "evalue": "Error in cor(life_expectancy_naomit$Life_expectancy, life_expectancy_naomit$BMI): supply both 'x' and 'y' or a matrix-like 'x'\n",
     "output_type": "error",
     "traceback": [
      "Error in cor(life_expectancy_naomit$Life_expectancy, life_expectancy_naomit$BMI): supply both 'x' and 'y' or a matrix-like 'x'\nTraceback:\n",
      "1. cor(life_expectancy_naomit$Life_expectancy, life_expectancy_naomit$BMI)",
      "2. stop(\"supply both 'x' and 'y' or a matrix-like 'x'\")"
     ]
    }
   ],
   "source": [
    "### Checking the correlation coefficients of each predictor\n",
    "\n",
    "# Pearson correlation between Life expectancy and HIV/AIDS\n",
    "cor(life_expectancy_naomit$Life_expectancy, life_expectancy_naomit$HIV.AIDS)\n",
    "# Pearson correlation between Life_expectancy and BMI\n",
    "cor(life_expectancy_naomit$Life_expectancy, life_expectancy_naomit$BMI)\n",
    "# # Pearson correlation between Life_expectancy and Schooling\n",
    "cor(life_expectancy_naomit$Life_expectancy, life_expectancy_naomit$Schooling)\n"
   ]
  },
  {
   "cell_type": "markdown",
   "metadata": {},
   "source": [
    "Using Pearsons r, we found that HIV/AIDS, Schooling and BMI all have a high correlation coefficient with life expectancy (between ± 0.50 and ± 1). As such we will use them all to predict the life expectancy.\n",
    "\n",
    "Afterwards, we split the data into 75% training data and 25% testing data (Table 3) and summarized the data to check the mean and median for our variables using summarize function. (Table 4) The mean of life expectancy, HIV/AIDS, BMI, and Schooling was 72.03, 0.60, 42.10, and 13.11, respectively. Also, we created histograms of each variable (Figure 1) so that we could check the distribution of each predictor. "
   ]
  },
  {
   "cell_type": "code",
   "execution_count": 21,
   "metadata": {},
   "outputs": [
    {
     "data": {
      "text/html": [
       "<table>\n",
       "<caption>A tibble: 132 × 3</caption>\n",
       "<thead>\n",
       "\t<tr><th scope=col>Life_expectancy</th><th scope=col>HIV.AIDS</th><th scope=col>Schooling</th></tr>\n",
       "\t<tr><th scope=col>&lt;dbl&gt;</th><th scope=col>&lt;dbl&gt;</th><th scope=col>&lt;dbl&gt;</th></tr>\n",
       "</thead>\n",
       "<tbody>\n",
       "\t<tr><td>65.0</td><td>0.1</td><td>10.1</td></tr>\n",
       "\t<tr><td>77.8</td><td>0.1</td><td>14.2</td></tr>\n",
       "\t<tr><td>52.4</td><td>1.9</td><td>11.4</td></tr>\n",
       "\t<tr><td>⋮</td><td>⋮</td><td>⋮</td></tr>\n",
       "\t<tr><td>65.7</td><td>0.1</td><td> 9.0</td></tr>\n",
       "\t<tr><td>61.8</td><td>4.1</td><td>12.5</td></tr>\n",
       "\t<tr><td>67.0</td><td>6.2</td><td>10.3</td></tr>\n",
       "</tbody>\n",
       "</table>\n"
      ],
      "text/latex": [
       "A tibble: 132 × 3\n",
       "\\begin{tabular}{lll}\n",
       " Life\\_expectancy & HIV.AIDS & Schooling\\\\\n",
       " <dbl> & <dbl> & <dbl>\\\\\n",
       "\\hline\n",
       "\t 65.0 & 0.1 & 10.1\\\\\n",
       "\t 77.8 & 0.1 & 14.2\\\\\n",
       "\t 52.4 & 1.9 & 11.4\\\\\n",
       "\t ⋮ & ⋮ & ⋮\\\\\n",
       "\t 65.7 & 0.1 &  9.0\\\\\n",
       "\t 61.8 & 4.1 & 12.5\\\\\n",
       "\t 67.0 & 6.2 & 10.3\\\\\n",
       "\\end{tabular}\n"
      ],
      "text/markdown": [
       "\n",
       "A tibble: 132 × 3\n",
       "\n",
       "| Life_expectancy &lt;dbl&gt; | HIV.AIDS &lt;dbl&gt; | Schooling &lt;dbl&gt; |\n",
       "|---|---|---|\n",
       "| 65.0 | 0.1 | 10.1 |\n",
       "| 77.8 | 0.1 | 14.2 |\n",
       "| 52.4 | 1.9 | 11.4 |\n",
       "| ⋮ | ⋮ | ⋮ |\n",
       "| 65.7 | 0.1 |  9.0 |\n",
       "| 61.8 | 4.1 | 12.5 |\n",
       "| 67.0 | 6.2 | 10.3 |\n",
       "\n"
      ],
      "text/plain": [
       "    Life_expectancy HIV.AIDS Schooling\n",
       "1   65.0            0.1      10.1     \n",
       "2   77.8            0.1      14.2     \n",
       "3   52.4            1.9      11.4     \n",
       "⋮   ⋮               ⋮        ⋮        \n",
       "130 65.7            0.1       9.0     \n",
       "131 61.8            4.1      12.5     \n",
       "132 67.0            6.2      10.3     "
      ]
     },
     "metadata": {},
     "output_type": "display_data"
    }
   ],
   "source": [
    "### Split dataset into training and test set\n",
    "\n",
    "set.seed(3546)\n",
    "life_expectancy_split <-initial_split(life_expectancy_naomit, prop = 0.75, strata = \"Life_expectancy\")\n",
    "life_expectancy_training <- training(life_expectancy_split)\n",
    "life_expectancy_testing <- testing(life_expectancy_split)\n",
    "life_expectancy_training"
   ]
  },
  {
   "cell_type": "markdown",
   "metadata": {},
   "source": [
    "Table 3. Training data from WHO life expectancy data"
   ]
  },
  {
   "cell_type": "code",
   "execution_count": 22,
   "metadata": {},
   "outputs": [
    {
     "ename": "ERROR",
     "evalue": "Error in FUN(X[[i]], ...): object 'BMI' not found\n",
     "output_type": "error",
     "traceback": [
      "Error in FUN(X[[i]], ...): object 'BMI' not found\nTraceback:\n",
      "1. plot_grid(life_expectancy_hist, hiv_aids_hist, bmi_hist, schooling_hist)",
      "2. align_plots(plotlist = plots, align = align, axis = axis, greedy = greedy)",
      "3. lapply(plots, function(x) {\n .     if (!is.null(x)) \n .         as_gtable(x)\n .     else NULL\n . })",
      "4. FUN(X[[i]], ...)",
      "5. as_gtable(x)",
      "6. as_gtable.default(x)",
      "7. as_grob(plot)",
      "8. as_grob.ggplot(plot)",
      "9. ggplot2::ggplotGrob(plot)",
      "10. ggplot_gtable(ggplot_build(x))",
      "11. ggplot_build(x)",
      "12. ggplot_build.ggplot(x)",
      "13. by_layer(function(l, d) l$compute_aesthetics(d, plot))",
      "14. f(l = layers[[i]], d = data[[i]])",
      "15. l$compute_aesthetics(d, plot)",
      "16. f(..., self = self)",
      "17. scales_add_defaults(plot$scales, data, aesthetics, plot$plot_env)",
      "18. lapply(aesthetics[new_aesthetics], eval_tidy, data = data)",
      "19. FUN(X[[i]], ...)"
     ]
    }
   ],
   "source": [
    "### Distribution of each predictor\n",
    "\n",
    "library(cowplot)\n",
    "options(repr.plot.width = 17, repr.plot.height = 18)\n",
    "\n",
    "life_expectancy_hist <- ggplot(life_expectancy_training, aes(x = Life_expectancy)) +\n",
    "    geom_histogram(bins = 10) +\n",
    "    xlab(\"Life Expectancy (years)\") +\n",
    "    ggtitle(\"Histogram of Life Expectancy\") +\n",
    "    theme(text = element_text(size = 20))\n",
    "\n",
    "hiv_aids_hist <- ggplot(life_expectancy_training, aes(x = HIV.AIDS)) +\n",
    "    geom_histogram(bins = 10) +\n",
    "    xlab(\"Deaths per 1 000 live births HIV/AIDS\") +\n",
    "    ggtitle(\"Histogram of death rate from HIV/AIDS\") +\n",
    "    theme(text = element_text(size = 20))\n",
    "\n",
    "bmi_hist <- ggplot(life_expectancy_training, aes(x = BMI)) +\n",
    "    geom_histogram(bins = 10) +\n",
    "    xlab(\"Average Body Mass Index\") +\n",
    "    ggtitle(\"Histogram of BMI\") +\n",
    "    theme(text = element_text(size = 20))\n",
    "\n",
    "schooling_hist <- ggplot(life_expectancy_training, aes(x = Schooling)) +\n",
    "    geom_histogram(bins = 10) +\n",
    "    xlab(\"Number of years of schooling (years)\") +\n",
    "    ggtitle(\"Histogram of Schooling\") +\n",
    "    theme(text = element_text(size = 20))\n",
    "\n",
    "plot_grid(life_expectancy_hist, hiv_aids_hist, bmi_hist, schooling_hist)"
   ]
  },
  {
   "cell_type": "markdown",
   "metadata": {},
   "source": [
    "Figure 1. Histograms of the distributions of each predictor"
   ]
  },
  {
   "cell_type": "markdown",
   "metadata": {},
   "source": [
    "#### Correlation between the predictors and the target variable\n",
    "\n",
    "We used ggpairs function to visualize the correlation between the predictors and the target variable and the distribution of each variable we chose from our training set. (Figure 1) According to the plot, the correlation coefficients of HIV.AIDS, Schooling, and BMI were all between ± 0.50 and ± 1, -0.609\n",
    "0.815,and 0.505 respectively. Therefore, we confirmed to use all three as the predictors to predict the life expectancy, excluding BMI. Also, we could see that there was weak negative relationship between and Schooling and HIV/AIDS. When we check the linearity between each predictor and the target variable, there doesn’t seem to be strong linear relationship, so we decided to use K-nearest neighbour regression for our prediction instead of linear regression. "
   ]
  },
  {
   "cell_type": "code",
   "execution_count": 9,
   "metadata": {},
   "outputs": [
    {
     "name": "stderr",
     "output_type": "stream",
     "text": [
      "Registered S3 method overwritten by 'GGally':\n",
      "  method from   \n",
      "  +.gg   ggplot2\n",
      "\n"
     ]
    },
    {
     "data": {
      "image/png": "[encoded data removed]",
      "text/plain": [
       "plot without title"
      ]
     },
     "metadata": {
      "image/png": {
       "height": 900,
       "width": 900
      }
     },
     "output_type": "display_data"
    }
   ],
   "source": [
    "### Correlation Coefficient between the predictors and the target variable\n",
    "\n",
    "library(GGally)\n",
    "options(repr.plot.width = 15, repr.plot.height = 15)\n",
    "who_ggpairs <- ggpairs(life_expectancy_training) +\n",
    "                ggtitle(\"Relationship between each of the predictors and target variable and Distribution of variables\") +\n",
    "                theme(text = element_text(size = 20))\n",
    "who_ggpairs"
   ]
  },
  {
   "cell_type": "markdown",
   "metadata": {},
   "source": [
    "Figure 2. Relationship between each of the predictors and target variable and Distribution of variables"
   ]
  },
  {
   "cell_type": "markdown",
   "metadata": {},
   "source": [
    "#### K-\n",
    "\n",
    "Firstly, we set the seed number and preprocessed the training set by scaling and centering. Then we created the model specification for K- nearest neighbors regression by tuning neighbors and did 5-fold cross-validation by testing 10 values from 1 to 14 and created the table showing their mean and standard error of RMSE. (Table 5) To visualize the result and determine our best K value, we made a line/scatter plot of the neighbours and determined 6 as the best K value. (Figure 3)"
   ]
  },
  {
   "cell_type": "code",
   "execution_count": 10,
   "metadata": {},
   "outputs": [
    {
     "data": {
      "text/plain": [
       "══ Workflow ════════════════════════════════════════════════════════════════════\n",
       "\u001b[3mPreprocessor:\u001b[23m Recipe\n",
       "\u001b[3mModel:\u001b[23m nearest_neighbor()\n",
       "\n",
       "── Preprocessor ────────────────────────────────────────────────────────────────\n",
       "2 Recipe Steps\n",
       "\n",
       "● step_scale()\n",
       "● step_center()\n",
       "\n",
       "── Model ───────────────────────────────────────────────────────────────────────\n",
       "K-Nearest Neighbor Model Specification (regression)\n",
       "\n",
       "Main Arguments:\n",
       "  neighbors = tune()\n",
       "  weight_func = rectangular\n",
       "\n",
       "Computational engine: kknn \n"
      ]
     },
     "metadata": {},
     "output_type": "display_data"
    }
   ],
   "source": [
    "### Model Tuning and 5-fold Cross Validation\n",
    "\n",
    "set.seed(3548)\n",
    "knn_tune <- nearest_neighbor(weight_func = \"rectangular\", neighbors = tune()) %>%\n",
    "        set_engine(\"kknn\")%>%\n",
    "        set_mode(\"regression\")\n",
    "\n",
    "life_recipe <- recipe(Life_expectancy ~ ., data = life_expectancy_training) %>% \n",
    "            step_scale(all_predictors()) %>% \n",
    "            step_center(all_predictors())\n",
    "\n",
    "life_vfold <- vfold_cv(life_expectancy_training, v = 5, strata = \"Life_expectancy\")\n",
    "\n",
    "\n",
    "life_fit <- workflow() %>%\n",
    "        add_recipe(life_recipe) %>%\n",
    "        add_model(knn_tune) # %>%\n",
    "#         tune_grid(resamples = life_vfold, grid = gridvals) %>%\n",
    "#         collect_metrics() %>%\n",
    "#         filter(.metric == \"rmse\") \n",
    "\n",
    "life_fit\n"
   ]
  },
  {
   "cell_type": "code",
   "execution_count": 11,
   "metadata": {},
   "outputs": [],
   "source": [
    "### Visualizing the plot to see how the RMSE varies depending on the neighbors K\n",
    "\n",
    "# options(repr.plot.width = 12, repr.plot.height = 12)\n",
    "\n",
    "# rmse_vs_k <- ggplot(life_fit, aes(x = neighbors, y = mean)) +\n",
    "#   geom_point() +\n",
    "#   geom_line() +\n",
    "#   labs(x = \"Neighbors\", y = \"RMSE\") + \n",
    "#   theme(text = element_text(size = 20))\n",
    "\n",
    "# rmse_vs_k"
   ]
  },
  {
   "cell_type": "markdown",
   "metadata": {},
   "source": [
    "Figure 3. Effect of the number of neighbors on the RMSE "
   ]
  },
  {
   "cell_type": "code",
   "execution_count": 12,
   "metadata": {},
   "outputs": [
    {
     "data": {
      "text/html": [
       "<table>\n",
       "<caption>A tibble: 100 × 7</caption>\n",
       "<thead>\n",
       "\t<tr><th scope=col>neighbors</th><th scope=col>.metric</th><th scope=col>.estimator</th><th scope=col>mean</th><th scope=col>n</th><th scope=col>std_err</th><th scope=col>.config</th></tr>\n",
       "\t<tr><th scope=col>&lt;int&gt;</th><th scope=col>&lt;chr&gt;</th><th scope=col>&lt;chr&gt;</th><th scope=col>&lt;dbl&gt;</th><th scope=col>&lt;int&gt;</th><th scope=col>&lt;dbl&gt;</th><th scope=col>&lt;chr&gt;</th></tr>\n",
       "</thead>\n",
       "<tbody>\n",
       "\t<tr><td>1</td><td>rmse</td><td>standard</td><td>4.1248631</td><td>5</td><td>0.29376019</td><td>Model01</td></tr>\n",
       "\t<tr><td>1</td><td>rsq </td><td>standard</td><td>0.7446051</td><td>5</td><td>0.03121464</td><td>Model01</td></tr>\n",
       "\t<tr><td>2</td><td>rmse</td><td>standard</td><td>3.8457647</td><td>5</td><td>0.14064886</td><td>Model02</td></tr>\n",
       "\t<tr><td>⋮</td><td>⋮</td><td>⋮</td><td>⋮</td><td>⋮</td><td>⋮</td><td>⋮</td></tr>\n",
       "\t<tr><td>49</td><td>rsq </td><td>standard</td><td>0.6687096</td><td>5</td><td>0.05624965</td><td>Model49</td></tr>\n",
       "\t<tr><td>50</td><td>rmse</td><td>standard</td><td>5.3941531</td><td>5</td><td>0.35542238</td><td>Model50</td></tr>\n",
       "\t<tr><td>50</td><td>rsq </td><td>standard</td><td>0.6633212</td><td>5</td><td>0.05698547</td><td>Model50</td></tr>\n",
       "</tbody>\n",
       "</table>\n"
      ],
      "text/latex": [
       "A tibble: 100 × 7\n",
       "\\begin{tabular}{lllllll}\n",
       " neighbors & .metric & .estimator & mean & n & std\\_err & .config\\\\\n",
       " <int> & <chr> & <chr> & <dbl> & <int> & <dbl> & <chr>\\\\\n",
       "\\hline\n",
       "\t 1 & rmse & standard & 4.1248631 & 5 & 0.29376019 & Model01\\\\\n",
       "\t 1 & rsq  & standard & 0.7446051 & 5 & 0.03121464 & Model01\\\\\n",
       "\t 2 & rmse & standard & 3.8457647 & 5 & 0.14064886 & Model02\\\\\n",
       "\t ⋮ & ⋮ & ⋮ & ⋮ & ⋮ & ⋮ & ⋮\\\\\n",
       "\t 49 & rsq  & standard & 0.6687096 & 5 & 0.05624965 & Model49\\\\\n",
       "\t 50 & rmse & standard & 5.3941531 & 5 & 0.35542238 & Model50\\\\\n",
       "\t 50 & rsq  & standard & 0.6633212 & 5 & 0.05698547 & Model50\\\\\n",
       "\\end{tabular}\n"
      ],
      "text/markdown": [
       "\n",
       "A tibble: 100 × 7\n",
       "\n",
       "| neighbors &lt;int&gt; | .metric &lt;chr&gt; | .estimator &lt;chr&gt; | mean &lt;dbl&gt; | n &lt;int&gt; | std_err &lt;dbl&gt; | .config &lt;chr&gt; |\n",
       "|---|---|---|---|---|---|---|\n",
       "| 1 | rmse | standard | 4.1248631 | 5 | 0.29376019 | Model01 |\n",
       "| 1 | rsq  | standard | 0.7446051 | 5 | 0.03121464 | Model01 |\n",
       "| 2 | rmse | standard | 3.8457647 | 5 | 0.14064886 | Model02 |\n",
       "| ⋮ | ⋮ | ⋮ | ⋮ | ⋮ | ⋮ | ⋮ |\n",
       "| 49 | rsq  | standard | 0.6687096 | 5 | 0.05624965 | Model49 |\n",
       "| 50 | rmse | standard | 5.3941531 | 5 | 0.35542238 | Model50 |\n",
       "| 50 | rsq  | standard | 0.6633212 | 5 | 0.05698547 | Model50 |\n",
       "\n"
      ],
      "text/plain": [
       "    neighbors .metric .estimator mean      n std_err    .config\n",
       "1   1         rmse    standard   4.1248631 5 0.29376019 Model01\n",
       "2   1         rsq     standard   0.7446051 5 0.03121464 Model01\n",
       "3   2         rmse    standard   3.8457647 5 0.14064886 Model02\n",
       "⋮   ⋮         ⋮       ⋮          ⋮         ⋮ ⋮          ⋮      \n",
       "98  49        rsq     standard   0.6687096 5 0.05624965 Model49\n",
       "99  50        rmse    standard   5.3941531 5 0.35542238 Model50\n",
       "100 50        rsq     standard   0.6633212 5 0.05698547 Model50"
      ]
     },
     "metadata": {},
     "output_type": "display_data"
    },
    {
     "data": {
      "text/html": [
       "<table>\n",
       "<caption>A tibble: 1 × 7</caption>\n",
       "<thead>\n",
       "\t<tr><th scope=col>neighbors</th><th scope=col>.metric</th><th scope=col>.estimator</th><th scope=col>mean</th><th scope=col>n</th><th scope=col>std_err</th><th scope=col>.config</th></tr>\n",
       "\t<tr><th scope=col>&lt;int&gt;</th><th scope=col>&lt;chr&gt;</th><th scope=col>&lt;chr&gt;</th><th scope=col>&lt;dbl&gt;</th><th scope=col>&lt;int&gt;</th><th scope=col>&lt;dbl&gt;</th><th scope=col>&lt;chr&gt;</th></tr>\n",
       "</thead>\n",
       "<tbody>\n",
       "\t<tr><td>3</td><td>rmse</td><td>standard</td><td>3.669756</td><td>5</td><td>0.1169645</td><td>Model03</td></tr>\n",
       "</tbody>\n",
       "</table>\n"
      ],
      "text/latex": [
       "A tibble: 1 × 7\n",
       "\\begin{tabular}{lllllll}\n",
       " neighbors & .metric & .estimator & mean & n & std\\_err & .config\\\\\n",
       " <int> & <chr> & <chr> & <dbl> & <int> & <dbl> & <chr>\\\\\n",
       "\\hline\n",
       "\t 3 & rmse & standard & 3.669756 & 5 & 0.1169645 & Model03\\\\\n",
       "\\end{tabular}\n"
      ],
      "text/markdown": [
       "\n",
       "A tibble: 1 × 7\n",
       "\n",
       "| neighbors &lt;int&gt; | .metric &lt;chr&gt; | .estimator &lt;chr&gt; | mean &lt;dbl&gt; | n &lt;int&gt; | std_err &lt;dbl&gt; | .config &lt;chr&gt; |\n",
       "|---|---|---|---|---|---|---|\n",
       "| 3 | rmse | standard | 3.669756 | 5 | 0.1169645 | Model03 |\n",
       "\n"
      ],
      "text/plain": [
       "  neighbors .metric .estimator mean     n std_err   .config\n",
       "1 3         rmse    standard   3.669756 5 0.1169645 Model03"
      ]
     },
     "metadata": {},
     "output_type": "display_data"
    }
   ],
   "source": [
    "gridvals <- tibble(neighbors = seq(from = 1, to = 50))\n",
    "\n",
    "life_results <- life_fit %>%\n",
    "      tune_grid(resamples = life_vfold, grid = gridvals) %>%\n",
    "      collect_metrics() \n",
    "life_results\n",
    "# finding the minimum RMSPE to help pick number of neighbors that will serve as our best k value\n",
    "\n",
    "life_min <- life_results %>%\n",
    "   filter(.metric == \"rmse\") %>%\n",
    "   arrange(mean) %>% \n",
    "   slice(1)\n",
    "\n",
    "life_min"
   ]
  },
  {
   "cell_type": "markdown",
   "metadata": {},
   "source": [
    "By using 6 as our best K value, we re-trained our K-NN regression model on the training data set and used it to predict the life expectancy of our test data. "
   ]
  },
  {
   "cell_type": "code",
   "execution_count": 13,
   "metadata": {},
   "outputs": [
    {
     "data": {
      "text/html": [
       "<table>\n",
       "<caption>A tibble: 1 × 3</caption>\n",
       "<thead>\n",
       "\t<tr><th scope=col>.metric</th><th scope=col>.estimator</th><th scope=col>.estimate</th></tr>\n",
       "\t<tr><th scope=col>&lt;chr&gt;</th><th scope=col>&lt;chr&gt;</th><th scope=col>&lt;dbl&gt;</th></tr>\n",
       "</thead>\n",
       "<tbody>\n",
       "\t<tr><td>rmse</td><td>standard</td><td>3.762808</td></tr>\n",
       "</tbody>\n",
       "</table>\n"
      ],
      "text/latex": [
       "A tibble: 1 × 3\n",
       "\\begin{tabular}{lll}\n",
       " .metric & .estimator & .estimate\\\\\n",
       " <chr> & <chr> & <dbl>\\\\\n",
       "\\hline\n",
       "\t rmse & standard & 3.762808\\\\\n",
       "\\end{tabular}\n"
      ],
      "text/markdown": [
       "\n",
       "A tibble: 1 × 3\n",
       "\n",
       "| .metric &lt;chr&gt; | .estimator &lt;chr&gt; | .estimate &lt;dbl&gt; |\n",
       "|---|---|---|\n",
       "| rmse | standard | 3.762808 |\n",
       "\n"
      ],
      "text/plain": [
       "  .metric .estimator .estimate\n",
       "1 rmse    standard   3.762808 "
      ]
     },
     "metadata": {},
     "output_type": "display_data"
    }
   ],
   "source": [
    "### Creating final regression model and Model Evaluation\n",
    "\n",
    "knn_spec <- nearest_neighbor(weight_func = \"rectangular\", neighbors = 3) %>%\n",
    "        set_engine(\"kknn\")%>%\n",
    "        set_mode(\"regression\")\n",
    "\n",
    "life_fit_2 <- workflow() %>%\n",
    "            add_recipe(life_recipe) %>%\n",
    "            add_model(knn_spec) %>%\n",
    "            fit(life_expectancy_training)\n",
    "\n",
    "knn_rmspe <- life_fit_2 %>%\n",
    "            predict(life_expectancy_testing)%>%\n",
    "            bind_cols(life_expectancy_testing) %>%\n",
    "            metrics(truth = \"Life_expectancy\", estimate = .pred) %>%\n",
    "            filter(.metric == \"rmse\")\n",
    "\n",
    "knn_rmspe"
   ]
  },
  {
   "cell_type": "markdown",
   "metadata": {},
   "source": [
    "Table 4. Our rmspe shows that our life expectancy can be expected to predict the life expectancy of a patient within ±3.76 years."
   ]
  },
  {
   "cell_type": "markdown",
   "metadata": {},
   "source": [
    "### Conclusion\n",
    "\n",
    "-\n",
    "\n",
    "- \n",
    "- rmspe shows that our life expectancy can be expected to predict the life expectancy of a patient within ±3.76 years."
   ]
  },
  {
   "cell_type": "markdown",
   "metadata": {},
   "source": [
    "## References\n",
    "\n",
    "Crimmins E. M. (2015). Lifespan and Healthspan: Past, Present, and Promise. _The Gerontologist,_ 55(6), 901–911. https://doi.org/10.1093/geront/gnv130\n",
    "\n",
    "Novak, A., Čepar, Z., and Trunk, A. (2016). The role of expected years of schooling among life expectancy determinants. _International Journal of Innovation and Learning_. 20(1). https://www.inderscienceonline.com/doi/pdf/10.1504/IJIL.2016.076673"
   ]
  },
  {
   "cell_type": "markdown",
   "metadata": {},
   "source": [
    "Still to do: [Aim to have your parts finished Monday April 4th]\n",
    "\n",
    "Test data\n",
    "Add title to graphs\n",
    "Scale ? \n",
    "Recipe (scaling and centering) ?\n",
    "\n",
    "MODEL (KNN regression) - **Emma P**\n",
    "Workflow, engine and new prediction\n",
    "Test model with testing data + check accuracy\n",
    "New data point (displayed in a table)\n",
    "prediction (for new datapoint / person)\n",
    "            \n",
    "            \n",
    "METHODS - Add KNN regression steps and all others  **Jioh**\n",
    "\n",
    "\n",
    "RESULTS **Yutong**\n",
    "            Two sets: \n",
    "            one without the new point\n",
    "            Include new data point on a second plot (and circle it)\n",
    "            Captions for graphs\n",
    "            \n",
    "            \n",
    "DISCUSSION **Emma D**\n",
    "- summarize what you found \n",
    "- discuss whether this is what you expected to find?\n",
    "- discuss what impact could such findings have?\n",
    "- discuss what future questions could this lead to?\n",
    "            \n",
    "            \n",
    "CHECK:**EMMA D**\n",
    "            Spelling/grammar\n",
    "            Code errors and readability\n",
    "            Titles (human readable and correctly formatted on ALL graphs)\n",
    "            Make sure code runs for everyone \n"
   ]
  },
  {
   "cell_type": "code",
   "execution_count": null,
   "metadata": {},
   "outputs": [],
   "source": []
  }
 ],
 "metadata": {
  "kernelspec": {
   "display_name": "R",
   "language": "R",
   "name": "ir"
  },
  "language_info": {
   "codemirror_mode": "r",
   "file_extension": ".r",
   "mimetype": "text/x-r-source",
   "name": "R",
   "pygments_lexer": "r",
   "version": "4.0.0"
  }
 },
 "nbformat": 4,
 "nbformat_minor": 4
}
