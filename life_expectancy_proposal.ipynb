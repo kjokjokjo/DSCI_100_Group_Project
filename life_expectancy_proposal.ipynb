{
 "cells": [
  {
   "cell_type": "markdown",
   "metadata": {},
   "source": [
    "# Predicting life expectancy using a regression model\n",
    "\n",
    "\n",
    "### Introduction\n",
    "\n",
    "The human life span has increased darastically over the past century, increasing from 47.3 years of age in 1900, to 78.8 by 2010 (Crimmins, 2015). Yet this impressive increase in the average life expectacny at birth does not reflect the inequalities in life expectancy which are seen across the socioecinimic divide, not to mention differences in life expectancy and quality which can be seen in gender, income, educational levels, and governance differences.\n",
    "\n",
    "The World Health Organisation (WHO) released a dataset containing life expectancy and a large variety of health factors, such as immunization, economic, and social factors, for 193 countries between 2000-2015. We will use this data to predict life expectancy using a linear regression model."
   ]
  },
  {
   "cell_type": "markdown",
   "metadata": {},
   "source": [
    "### Why these Predictors?\n",
    "HIV/AIDS has been proven to shorten life expectancy by increasing the risk of other illnesses like heart disease or diabetes. This caused by the virus weakening the immune system making it more susceptible to illnesses and making those illnesses more likely to end in death.\n",
    "BMI can have a direct impact on life expectancy. As soon as a person is no longer within a healthy BMI range, their life expectancy decreases the further away they get from that range.\n",
    "Schooling, contrary to BMI, can increase life expectancy. It has been shown in multiple studies that people with higher levels of education tend to have longer life expectancies.\n"
   ]
  },
  {
   "cell_type": "markdown",
   "metadata": {},
   "source": [
    "### Preliminary exploratory data analysis\n",
    "\n",
    "- Demonstrate that the dataset can be read from the web into R \n",
    "- Clean and wrangle your data into a tidy format\n",
    "- Using only training data, summarize the data in at least one table (this is exploratory data analysis). An example of a useful table could be one that reports the number of observations in each class, the means of the predictor variables you plan to use in your analysis and how many rows have missing data. \n",
    "- Using only training data, visualize the data with at least one plot relevant to the analysis you plan to do (this is exploratory data analysis). An example of a useful visualization could be one that compares the distributions of each of the predictor variables you plan to use in your analysis.\n"
   ]
  },
  {
   "cell_type": "code",
   "execution_count": 2,
   "metadata": {},
   "outputs": [
    {
     "name": "stderr",
     "output_type": "stream",
     "text": [
      "Parsed with column specification:\n",
      "cols(\n",
      "  .default = col_double(),\n",
      "  Country = \u001b[31mcol_character()\u001b[39m,\n",
      "  Status = \u001b[31mcol_character()\u001b[39m\n",
      ")\n",
      "\n",
      "See spec(...) for full column specifications.\n",
      "\n"
     ]
    },
    {
     "data": {
      "text/html": [
       "<table>\n",
       "<caption>A tibble: 6 × 22</caption>\n",
       "<thead>\n",
       "\t<tr><th scope=col>Country</th><th scope=col>Year</th><th scope=col>Status</th><th scope=col>Life_expectancy</th><th scope=col>Adult_Mortality</th><th scope=col>infant_deaths</th><th scope=col>Alcohol</th><th scope=col>percentage_expenditure</th><th scope=col>Hepatitis_B</th><th scope=col>Measles</th><th scope=col>⋯</th><th scope=col>Polio</th><th scope=col>Total_expenditure</th><th scope=col>Diphtheria</th><th scope=col>HIV/AIDS</th><th scope=col>GDP</th><th scope=col>Population</th><th scope=col>thinness_1-19_years</th><th scope=col>thinness_5-9_years</th><th scope=col>Income_composition_of_resources</th><th scope=col>Schooling</th></tr>\n",
       "\t<tr><th scope=col>&lt;chr&gt;</th><th scope=col>&lt;dbl&gt;</th><th scope=col>&lt;chr&gt;</th><th scope=col>&lt;dbl&gt;</th><th scope=col>&lt;dbl&gt;</th><th scope=col>&lt;dbl&gt;</th><th scope=col>&lt;dbl&gt;</th><th scope=col>&lt;dbl&gt;</th><th scope=col>&lt;dbl&gt;</th><th scope=col>&lt;dbl&gt;</th><th scope=col>⋯</th><th scope=col>&lt;dbl&gt;</th><th scope=col>&lt;dbl&gt;</th><th scope=col>&lt;dbl&gt;</th><th scope=col>&lt;dbl&gt;</th><th scope=col>&lt;dbl&gt;</th><th scope=col>&lt;dbl&gt;</th><th scope=col>&lt;dbl&gt;</th><th scope=col>&lt;dbl&gt;</th><th scope=col>&lt;dbl&gt;</th><th scope=col>&lt;dbl&gt;</th></tr>\n",
       "</thead>\n",
       "<tbody>\n",
       "\t<tr><td>Afghanistan</td><td>2015</td><td>Developing</td><td>65.0</td><td>263</td><td>62</td><td>0.01</td><td>71.279624</td><td>65</td><td>1154</td><td>⋯</td><td> 6</td><td>8.16</td><td>65</td><td>0.1</td><td>584.25921</td><td>33736494</td><td>17.2</td><td>17.3</td><td>0.479</td><td>10.1</td></tr>\n",
       "\t<tr><td>Afghanistan</td><td>2014</td><td>Developing</td><td>59.9</td><td>271</td><td>64</td><td>0.01</td><td>73.523582</td><td>62</td><td> 492</td><td>⋯</td><td>58</td><td>8.18</td><td>62</td><td>0.1</td><td>612.69651</td><td>  327582</td><td>17.5</td><td>17.5</td><td>0.476</td><td>10.0</td></tr>\n",
       "\t<tr><td>Afghanistan</td><td>2013</td><td>Developing</td><td>59.9</td><td>268</td><td>66</td><td>0.01</td><td>73.219243</td><td>64</td><td> 430</td><td>⋯</td><td>62</td><td>8.13</td><td>64</td><td>0.1</td><td>631.74498</td><td>31731688</td><td>17.7</td><td>17.7</td><td>0.470</td><td> 9.9</td></tr>\n",
       "\t<tr><td>Afghanistan</td><td>2012</td><td>Developing</td><td>59.5</td><td>272</td><td>69</td><td>0.01</td><td>78.184215</td><td>67</td><td>2787</td><td>⋯</td><td>67</td><td>8.52</td><td>67</td><td>0.1</td><td>669.95900</td><td> 3696958</td><td>17.9</td><td>18.0</td><td>0.463</td><td> 9.8</td></tr>\n",
       "\t<tr><td>Afghanistan</td><td>2011</td><td>Developing</td><td>59.2</td><td>275</td><td>71</td><td>0.01</td><td> 7.097109</td><td>68</td><td>3013</td><td>⋯</td><td>68</td><td>7.87</td><td>68</td><td>0.1</td><td> 63.53723</td><td> 2978599</td><td>18.2</td><td>18.2</td><td>0.454</td><td> 9.5</td></tr>\n",
       "\t<tr><td>Afghanistan</td><td>2010</td><td>Developing</td><td>58.8</td><td>279</td><td>74</td><td>0.01</td><td>79.679367</td><td>66</td><td>1989</td><td>⋯</td><td>66</td><td>9.20</td><td>66</td><td>0.1</td><td>553.32894</td><td> 2883167</td><td>18.4</td><td>18.4</td><td>0.448</td><td> 9.2</td></tr>\n",
       "</tbody>\n",
       "</table>\n"
      ],
      "text/latex": [
       "A tibble: 6 × 22\n",
       "\\begin{tabular}{lllllllllllllllllllll}\n",
       " Country & Year & Status & Life\\_expectancy & Adult\\_Mortality & infant\\_deaths & Alcohol & percentage\\_expenditure & Hepatitis\\_B & Measles & ⋯ & Polio & Total\\_expenditure & Diphtheria & HIV/AIDS & GDP & Population & thinness\\_1-19\\_years & thinness\\_5-9\\_years & Income\\_composition\\_of\\_resources & Schooling\\\\\n",
       " <chr> & <dbl> & <chr> & <dbl> & <dbl> & <dbl> & <dbl> & <dbl> & <dbl> & <dbl> & ⋯ & <dbl> & <dbl> & <dbl> & <dbl> & <dbl> & <dbl> & <dbl> & <dbl> & <dbl> & <dbl>\\\\\n",
       "\\hline\n",
       "\t Afghanistan & 2015 & Developing & 65.0 & 263 & 62 & 0.01 & 71.279624 & 65 & 1154 & ⋯ &  6 & 8.16 & 65 & 0.1 & 584.25921 & 33736494 & 17.2 & 17.3 & 0.479 & 10.1\\\\\n",
       "\t Afghanistan & 2014 & Developing & 59.9 & 271 & 64 & 0.01 & 73.523582 & 62 &  492 & ⋯ & 58 & 8.18 & 62 & 0.1 & 612.69651 &   327582 & 17.5 & 17.5 & 0.476 & 10.0\\\\\n",
       "\t Afghanistan & 2013 & Developing & 59.9 & 268 & 66 & 0.01 & 73.219243 & 64 &  430 & ⋯ & 62 & 8.13 & 64 & 0.1 & 631.74498 & 31731688 & 17.7 & 17.7 & 0.470 &  9.9\\\\\n",
       "\t Afghanistan & 2012 & Developing & 59.5 & 272 & 69 & 0.01 & 78.184215 & 67 & 2787 & ⋯ & 67 & 8.52 & 67 & 0.1 & 669.95900 &  3696958 & 17.9 & 18.0 & 0.463 &  9.8\\\\\n",
       "\t Afghanistan & 2011 & Developing & 59.2 & 275 & 71 & 0.01 &  7.097109 & 68 & 3013 & ⋯ & 68 & 7.87 & 68 & 0.1 &  63.53723 &  2978599 & 18.2 & 18.2 & 0.454 &  9.5\\\\\n",
       "\t Afghanistan & 2010 & Developing & 58.8 & 279 & 74 & 0.01 & 79.679367 & 66 & 1989 & ⋯ & 66 & 9.20 & 66 & 0.1 & 553.32894 &  2883167 & 18.4 & 18.4 & 0.448 &  9.2\\\\\n",
       "\\end{tabular}\n"
      ],
      "text/markdown": [
       "\n",
       "A tibble: 6 × 22\n",
       "\n",
       "| Country &lt;chr&gt; | Year &lt;dbl&gt; | Status &lt;chr&gt; | Life_expectancy &lt;dbl&gt; | Adult_Mortality &lt;dbl&gt; | infant_deaths &lt;dbl&gt; | Alcohol &lt;dbl&gt; | percentage_expenditure &lt;dbl&gt; | Hepatitis_B &lt;dbl&gt; | Measles &lt;dbl&gt; | ⋯ ⋯ | Polio &lt;dbl&gt; | Total_expenditure &lt;dbl&gt; | Diphtheria &lt;dbl&gt; | HIV/AIDS &lt;dbl&gt; | GDP &lt;dbl&gt; | Population &lt;dbl&gt; | thinness_1-19_years &lt;dbl&gt; | thinness_5-9_years &lt;dbl&gt; | Income_composition_of_resources &lt;dbl&gt; | Schooling &lt;dbl&gt; |\n",
       "|---|---|---|---|---|---|---|---|---|---|---|---|---|---|---|---|---|---|---|---|---|\n",
       "| Afghanistan | 2015 | Developing | 65.0 | 263 | 62 | 0.01 | 71.279624 | 65 | 1154 | ⋯ |  6 | 8.16 | 65 | 0.1 | 584.25921 | 33736494 | 17.2 | 17.3 | 0.479 | 10.1 |\n",
       "| Afghanistan | 2014 | Developing | 59.9 | 271 | 64 | 0.01 | 73.523582 | 62 |  492 | ⋯ | 58 | 8.18 | 62 | 0.1 | 612.69651 |   327582 | 17.5 | 17.5 | 0.476 | 10.0 |\n",
       "| Afghanistan | 2013 | Developing | 59.9 | 268 | 66 | 0.01 | 73.219243 | 64 |  430 | ⋯ | 62 | 8.13 | 64 | 0.1 | 631.74498 | 31731688 | 17.7 | 17.7 | 0.470 |  9.9 |\n",
       "| Afghanistan | 2012 | Developing | 59.5 | 272 | 69 | 0.01 | 78.184215 | 67 | 2787 | ⋯ | 67 | 8.52 | 67 | 0.1 | 669.95900 |  3696958 | 17.9 | 18.0 | 0.463 |  9.8 |\n",
       "| Afghanistan | 2011 | Developing | 59.2 | 275 | 71 | 0.01 |  7.097109 | 68 | 3013 | ⋯ | 68 | 7.87 | 68 | 0.1 |  63.53723 |  2978599 | 18.2 | 18.2 | 0.454 |  9.5 |\n",
       "| Afghanistan | 2010 | Developing | 58.8 | 279 | 74 | 0.01 | 79.679367 | 66 | 1989 | ⋯ | 66 | 9.20 | 66 | 0.1 | 553.32894 |  2883167 | 18.4 | 18.4 | 0.448 |  9.2 |\n",
       "\n"
      ],
      "text/plain": [
       "  Country     Year Status     Life_expectancy Adult_Mortality infant_deaths\n",
       "1 Afghanistan 2015 Developing 65.0            263             62           \n",
       "2 Afghanistan 2014 Developing 59.9            271             64           \n",
       "3 Afghanistan 2013 Developing 59.9            268             66           \n",
       "4 Afghanistan 2012 Developing 59.5            272             69           \n",
       "5 Afghanistan 2011 Developing 59.2            275             71           \n",
       "6 Afghanistan 2010 Developing 58.8            279             74           \n",
       "  Alcohol percentage_expenditure Hepatitis_B Measles ⋯ Polio Total_expenditure\n",
       "1 0.01    71.279624              65          1154    ⋯  6    8.16             \n",
       "2 0.01    73.523582              62           492    ⋯ 58    8.18             \n",
       "3 0.01    73.219243              64           430    ⋯ 62    8.13             \n",
       "4 0.01    78.184215              67          2787    ⋯ 67    8.52             \n",
       "5 0.01     7.097109              68          3013    ⋯ 68    7.87             \n",
       "6 0.01    79.679367              66          1989    ⋯ 66    9.20             \n",
       "  Diphtheria HIV/AIDS GDP       Population thinness_1-19_years\n",
       "1 65         0.1      584.25921 33736494   17.2               \n",
       "2 62         0.1      612.69651   327582   17.5               \n",
       "3 64         0.1      631.74498 31731688   17.7               \n",
       "4 67         0.1      669.95900  3696958   17.9               \n",
       "5 68         0.1       63.53723  2978599   18.2               \n",
       "6 66         0.1      553.32894  2883167   18.4               \n",
       "  thinness_5-9_years Income_composition_of_resources Schooling\n",
       "1 17.3               0.479                           10.1     \n",
       "2 17.5               0.476                           10.0     \n",
       "3 17.7               0.470                            9.9     \n",
       "4 18.0               0.463                            9.8     \n",
       "5 18.2               0.454                            9.5     \n",
       "6 18.4               0.448                            9.2     "
      ]
     },
     "metadata": {},
     "output_type": "display_data"
    },
    {
     "data": {
      "text/html": [
       "<table>\n",
       "<caption>A tibble: 1649 × 4</caption>\n",
       "<thead>\n",
       "\t<tr><th scope=col>Life_expectancy</th><th scope=col>HIV/AIDS</th><th scope=col>BMI</th><th scope=col>Schooling</th></tr>\n",
       "\t<tr><th scope=col>&lt;dbl&gt;</th><th scope=col>&lt;dbl&gt;</th><th scope=col>&lt;dbl&gt;</th><th scope=col>&lt;dbl&gt;</th></tr>\n",
       "</thead>\n",
       "<tbody>\n",
       "\t<tr><td>65.0</td><td>0.1</td><td>19.1</td><td>10.1</td></tr>\n",
       "\t<tr><td>59.9</td><td>0.1</td><td>18.6</td><td>10.0</td></tr>\n",
       "\t<tr><td>59.9</td><td>0.1</td><td>18.1</td><td> 9.9</td></tr>\n",
       "\t<tr><td>⋮</td><td>⋮</td><td>⋮</td><td>⋮</td></tr>\n",
       "\t<tr><td>44.8</td><td>39.8</td><td>26.3</td><td>10.0</td></tr>\n",
       "\t<tr><td>45.3</td><td>42.1</td><td>25.9</td><td> 9.8</td></tr>\n",
       "\t<tr><td>46.0</td><td>43.5</td><td>25.5</td><td> 9.8</td></tr>\n",
       "</tbody>\n",
       "</table>\n"
      ],
      "text/latex": [
       "A tibble: 1649 × 4\n",
       "\\begin{tabular}{llll}\n",
       " Life\\_expectancy & HIV/AIDS & BMI & Schooling\\\\\n",
       " <dbl> & <dbl> & <dbl> & <dbl>\\\\\n",
       "\\hline\n",
       "\t 65.0 & 0.1 & 19.1 & 10.1\\\\\n",
       "\t 59.9 & 0.1 & 18.6 & 10.0\\\\\n",
       "\t 59.9 & 0.1 & 18.1 &  9.9\\\\\n",
       "\t ⋮ & ⋮ & ⋮ & ⋮\\\\\n",
       "\t 44.8 & 39.8 & 26.3 & 10.0\\\\\n",
       "\t 45.3 & 42.1 & 25.9 &  9.8\\\\\n",
       "\t 46.0 & 43.5 & 25.5 &  9.8\\\\\n",
       "\\end{tabular}\n"
      ],
      "text/markdown": [
       "\n",
       "A tibble: 1649 × 4\n",
       "\n",
       "| Life_expectancy &lt;dbl&gt; | HIV/AIDS &lt;dbl&gt; | BMI &lt;dbl&gt; | Schooling &lt;dbl&gt; |\n",
       "|---|---|---|---|\n",
       "| 65.0 | 0.1 | 19.1 | 10.1 |\n",
       "| 59.9 | 0.1 | 18.6 | 10.0 |\n",
       "| 59.9 | 0.1 | 18.1 |  9.9 |\n",
       "| ⋮ | ⋮ | ⋮ | ⋮ |\n",
       "| 44.8 | 39.8 | 26.3 | 10.0 |\n",
       "| 45.3 | 42.1 | 25.9 |  9.8 |\n",
       "| 46.0 | 43.5 | 25.5 |  9.8 |\n",
       "\n"
      ],
      "text/plain": [
       "     Life_expectancy HIV/AIDS BMI  Schooling\n",
       "1    65.0            0.1      19.1 10.1     \n",
       "2    59.9            0.1      18.6 10.0     \n",
       "3    59.9            0.1      18.1  9.9     \n",
       "⋮    ⋮               ⋮        ⋮    ⋮        \n",
       "1647 44.8            39.8     26.3 10.0     \n",
       "1648 45.3            42.1     25.9  9.8     \n",
       "1649 46.0            43.5     25.5  9.8     "
      ]
     },
     "metadata": {},
     "output_type": "display_data"
    },
    {
     "data": {
      "text/html": [
       "<table>\n",
       "<caption>A tibble: 1239 × 4</caption>\n",
       "<thead>\n",
       "\t<tr><th scope=col>Life_expectancy</th><th scope=col>HIV/AIDS</th><th scope=col>BMI</th><th scope=col>Schooling</th></tr>\n",
       "\t<tr><th scope=col>&lt;dbl&gt;</th><th scope=col>&lt;dbl&gt;</th><th scope=col>&lt;dbl&gt;</th><th scope=col>&lt;dbl&gt;</th></tr>\n",
       "</thead>\n",
       "<tbody>\n",
       "\t<tr><td>65.0</td><td>0.1</td><td>19.1</td><td>10.1</td></tr>\n",
       "\t<tr><td>59.9</td><td>0.1</td><td>18.6</td><td>10.0</td></tr>\n",
       "\t<tr><td>59.5</td><td>0.1</td><td>17.6</td><td> 9.8</td></tr>\n",
       "\t<tr><td>⋮</td><td>⋮</td><td>⋮</td><td>⋮</td></tr>\n",
       "\t<tr><td>44.5</td><td>36.7</td><td>26.7</td><td> 9.5</td></tr>\n",
       "\t<tr><td>44.8</td><td>39.8</td><td>26.3</td><td>10.0</td></tr>\n",
       "\t<tr><td>46.0</td><td>43.5</td><td>25.5</td><td> 9.8</td></tr>\n",
       "</tbody>\n",
       "</table>\n"
      ],
      "text/latex": [
       "A tibble: 1239 × 4\n",
       "\\begin{tabular}{llll}\n",
       " Life\\_expectancy & HIV/AIDS & BMI & Schooling\\\\\n",
       " <dbl> & <dbl> & <dbl> & <dbl>\\\\\n",
       "\\hline\n",
       "\t 65.0 & 0.1 & 19.1 & 10.1\\\\\n",
       "\t 59.9 & 0.1 & 18.6 & 10.0\\\\\n",
       "\t 59.5 & 0.1 & 17.6 &  9.8\\\\\n",
       "\t ⋮ & ⋮ & ⋮ & ⋮\\\\\n",
       "\t 44.5 & 36.7 & 26.7 &  9.5\\\\\n",
       "\t 44.8 & 39.8 & 26.3 & 10.0\\\\\n",
       "\t 46.0 & 43.5 & 25.5 &  9.8\\\\\n",
       "\\end{tabular}\n"
      ],
      "text/markdown": [
       "\n",
       "A tibble: 1239 × 4\n",
       "\n",
       "| Life_expectancy &lt;dbl&gt; | HIV/AIDS &lt;dbl&gt; | BMI &lt;dbl&gt; | Schooling &lt;dbl&gt; |\n",
       "|---|---|---|---|\n",
       "| 65.0 | 0.1 | 19.1 | 10.1 |\n",
       "| 59.9 | 0.1 | 18.6 | 10.0 |\n",
       "| 59.5 | 0.1 | 17.6 |  9.8 |\n",
       "| ⋮ | ⋮ | ⋮ | ⋮ |\n",
       "| 44.5 | 36.7 | 26.7 |  9.5 |\n",
       "| 44.8 | 39.8 | 26.3 | 10.0 |\n",
       "| 46.0 | 43.5 | 25.5 |  9.8 |\n",
       "\n"
      ],
      "text/plain": [
       "     Life_expectancy HIV/AIDS BMI  Schooling\n",
       "1    65.0            0.1      19.1 10.1     \n",
       "2    59.9            0.1      18.6 10.0     \n",
       "3    59.5            0.1      17.6  9.8     \n",
       "⋮    ⋮               ⋮        ⋮    ⋮        \n",
       "1237 44.5            36.7     26.7  9.5     \n",
       "1238 44.8            39.8     26.3 10.0     \n",
       "1239 46.0            43.5     25.5  9.8     "
      ]
     },
     "metadata": {},
     "output_type": "display_data"
    }
   ],
   "source": [
    "library(tidyverse)\n",
    "library(repr)\n",
    "library(tidymodels)\n",
    "options(repr.matrix.max.rows = 6)\n",
    "library(readxl)\n",
    "\n",
    "life_data <- read_csv(\"https://raw.githubusercontent.com/kjokjokjo/DSCI_100_Group_Project/main/Life_Expectancy_Data.csv\") %>%\n",
    "na.omit(life_data)\n",
    "\n",
    "head(life_data)\n",
    "\n",
    "life_expectancy_select <- life_data %>%\n",
    "select(Life_expectancy, \"HIV/AIDS\", BMI, Schooling)\n",
    "life_expectancy_select\n",
    "\n",
    "set.seed(3546)\n",
    "life_expectancy_split <-initial_split(life_expectancy_select, prop = 0.75, strata = \"Life_expectancy\")\n",
    "life_expectancy_training <- training(life_expectancy_split)\n",
    "life_expectancy_testing <- testing(life_expectancy_split)\n",
    "life_expectancy_training"
   ]
  },
  {
   "cell_type": "markdown",
   "metadata": {},
   "source": [
    "## Methods\n",
    "- Explain how you will conduct either your data analysis and which variables/columns you will use. Note - you do not need to use all variables/columns that exist in the raw data set. In fact, that's often not a good idea. For each variable think: is this a useful variable for prediction?\n",
    "\n",
    "  - ie. We will use a correlation matrix, as in the preliminary exploratory data analysis, to determine which variables from our data set have a strong correlation/relationship with life expectancy, which will be our fixed variable.\n",
    "## _NOTE to group: ask if we should split data into a test and training set _before_ doing the above please. If so change the order to reflect this.\n",
    "  - Using Pearson correlation coefficient, we will then predict the life expectancy of the countries in our test data set\n",
    "  \n",
    "  \n",
    "## _Extra Note for group members: Correlation tests if two variables have any kind of relationship, while p-value indicates whether the a result is statistically significant.\n",
    "  \n",
    "- Describe at least one way that you will visualize the results\n"
   ]
  },
  {
   "cell_type": "markdown",
   "metadata": {},
   "source": [
    "## Expected outcomes and significance:\n",
    "- What do you expect to find?\n",
    "- What impact could such findings have?\n",
    "- What future questions could this lead to?\n",
    "\n",
    "We expect to find a positive relationship between immunization and life expectancy. We also expect that developed countries with a high GDP will see a higher life expectancy, however any deviation from the life expectancy which might be predicted solely from per capita income would be able to determine which factors policy makers should focus on in order to improve the health of their citizens.\n",
    "\n",
    "Determining which predicting variables have the greatest impact on increasing life expectany would enable countries to evaluate how investment in different sectors such as healthcare, or education, in order to increase life expectancy for its citizens. Knowing what factors affect life expectanly would also enable individuals to make decisions in their spending and political affiliation that could improve their own outcomes.\n",
    "\n",
    "Further questions which could be investigated include looking at whether avearge population density negatively or positively affects life expectancy, how much having health insurance improves life expectacy, and at the ."
   ]
  },
  {
   "cell_type": "markdown",
   "metadata": {},
   "source": [
    "## References\n",
    "\n",
    "Crimmins E. M. (2015). Lifespan and Healthspan: Past, Present, and Promise. _The Gerontologist,_ 55(6), 901–911. https://doi.org/10.1093/geront/gnv130"
   ]
  },
  {
   "cell_type": "code",
   "execution_count": null,
   "metadata": {},
   "outputs": [],
   "source": []
  },
  {
   "cell_type": "markdown",
   "metadata": {},
   "source": [
    "### (suggested) Style Guide for Group (use three hashtags, ###, to create sub headings\n",
    "\n",
    "**use stars for bold type** **\n",
    "\n",
    "- use a dash - to get a Bullet\n",
    "  - and another for an extra bullet \n",
    "  - or two...\n",
    "  -use apostrophes ' for functions/code unless adding to a code box, ie: `read_csv`\n",
    "  - and underscores, _ , for _italics_\n"
   ]
  }
 ],
 "metadata": {
  "kernelspec": {
   "display_name": "R",
   "language": "R",
   "name": "ir"
  },
  "language_info": {
   "codemirror_mode": "r",
   "file_extension": ".r",
   "mimetype": "text/x-r-source",
   "name": "R",
   "pygments_lexer": "r",
   "version": "4.0.0"
  }
 },
 "nbformat": 4,
 "nbformat_minor": 4
}
